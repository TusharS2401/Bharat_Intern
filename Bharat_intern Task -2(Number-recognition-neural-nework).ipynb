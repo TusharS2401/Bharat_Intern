{
 "cells": [
  {
   "cell_type": "code",
   "execution_count": 1,
   "id": "7920499c",
   "metadata": {
    "_cell_guid": "b1076dfc-b9ad-4769-8c92-a6c4dae69d19",
    "_uuid": "8f2839f25d086af736a60e9eeb907d3b93b6e0e5",
    "execution": {
     "iopub.execute_input": "2023-07-27T22:26:59.767596Z",
     "iopub.status.busy": "2023-07-27T22:26:59.767227Z",
     "iopub.status.idle": "2023-07-27T22:27:10.473373Z",
     "shell.execute_reply": "2023-07-27T22:27:10.472288Z"
    },
    "papermill": {
     "duration": 10.716001,
     "end_time": "2023-07-27T22:27:10.475922",
     "exception": false,
     "start_time": "2023-07-27T22:26:59.759921",
     "status": "completed"
    },
    "tags": []
   },
   "outputs": [
    {
     "name": "stderr",
     "output_type": "stream",
     "text": [
      "/opt/conda/lib/python3.10/site-packages/scipy/__init__.py:146: UserWarning: A NumPy version >=1.16.5 and <1.23.0 is required for this version of SciPy (detected version 1.23.5\n",
      "  warnings.warn(f\"A NumPy version >={np_minversion} and <{np_maxversion}\"\n",
      "/opt/conda/lib/python3.10/site-packages/tensorflow_io/python/ops/__init__.py:98: UserWarning: unable to load libtensorflow_io_plugins.so: unable to open file: libtensorflow_io_plugins.so, from paths: ['/opt/conda/lib/python3.10/site-packages/tensorflow_io/python/ops/libtensorflow_io_plugins.so']\n",
      "caused by: ['/opt/conda/lib/python3.10/site-packages/tensorflow_io/python/ops/libtensorflow_io_plugins.so: undefined symbol: _ZN3tsl6StatusC1EN10tensorflow5error4CodeESt17basic_string_viewIcSt11char_traitsIcEENS_14SourceLocationE']\n",
      "  warnings.warn(f\"unable to load libtensorflow_io_plugins.so: {e}\")\n",
      "/opt/conda/lib/python3.10/site-packages/tensorflow_io/python/ops/__init__.py:104: UserWarning: file system plugins are not loaded: unable to open file: libtensorflow_io.so, from paths: ['/opt/conda/lib/python3.10/site-packages/tensorflow_io/python/ops/libtensorflow_io.so']\n",
      "caused by: ['/opt/conda/lib/python3.10/site-packages/tensorflow_io/python/ops/libtensorflow_io.so: undefined symbol: _ZTVN10tensorflow13GcsFileSystemE']\n",
      "  warnings.warn(f\"file system plugins are not loaded: {e}\")\n"
     ]
    }
   ],
   "source": [
    "import pandas as pd\n",
    "import numpy as np\n",
    "import matplotlib.pyplot as plt\n",
    "import seaborn as sns\n",
    "plt.style.use('ggplot')\n",
    "sns.set_style('whitegrid')\n",
    "import seaborn as sns\n",
    "from sklearn.model_selection import train_test_split\n",
    "import tensorflow as tf\n",
    "from tensorflow import keras"
   ]
  },
  {
   "cell_type": "code",
   "execution_count": 3,
   "id": "2ee5c175",
   "metadata": {
    "execution": {
     "iopub.execute_input": "2023-07-27T22:27:10.511798Z",
     "iopub.status.busy": "2023-07-27T22:27:10.511430Z",
     "iopub.status.idle": "2023-07-27T22:27:14.246692Z",
     "shell.execute_reply": "2023-07-27T22:27:14.245435Z"
    },
    "papermill": {
     "duration": 3.744273,
     "end_time": "2023-07-27T22:27:14.248825",
     "exception": false,
     "start_time": "2023-07-27T22:27:10.504552",
     "status": "completed"
    },
    "tags": []
   },
   "outputs": [],
   "source": [
    "train_df = pd.read_csv('train.csv')\n",
    "test_df = pd.read_csv('test.csv')\n",
    "submission_sample_df = pd.read_csv('digit-recognizer/sample_submission.csv')"
   ]
  },
  {
   "cell_type": "code",
   "execution_count": 4,
   "id": "161fbb3b",
   "metadata": {
    "execution": {
     "iopub.execute_input": "2023-07-27T22:27:14.261489Z",
     "iopub.status.busy": "2023-07-27T22:27:14.261098Z",
     "iopub.status.idle": "2023-07-27T22:27:14.290200Z",
     "shell.execute_reply": "2023-07-27T22:27:14.288919Z"
    },
    "papermill": {
     "duration": 0.037766,
     "end_time": "2023-07-27T22:27:14.292292",
     "exception": false,
     "start_time": "2023-07-27T22:27:14.254526",
     "status": "completed"
    },
    "tags": []
   },
   "outputs": [
    {
     "data": {
      "text/html": [
       "<div>\n",
       "<style scoped>\n",
       "    .dataframe tbody tr th:only-of-type {\n",
       "        vertical-align: middle;\n",
       "    }\n",
       "\n",
       "    .dataframe tbody tr th {\n",
       "        vertical-align: top;\n",
       "    }\n",
       "\n",
       "    .dataframe thead th {\n",
       "        text-align: right;\n",
       "    }\n",
       "</style>\n",
       "<table border=\"1\" class=\"dataframe\">\n",
       "  <thead>\n",
       "    <tr style=\"text-align: right;\">\n",
       "      <th></th>\n",
       "      <th>label</th>\n",
       "      <th>pixel0</th>\n",
       "      <th>pixel1</th>\n",
       "      <th>pixel2</th>\n",
       "      <th>pixel3</th>\n",
       "      <th>pixel4</th>\n",
       "      <th>pixel5</th>\n",
       "      <th>pixel6</th>\n",
       "      <th>pixel7</th>\n",
       "      <th>pixel8</th>\n",
       "      <th>...</th>\n",
       "      <th>pixel774</th>\n",
       "      <th>pixel775</th>\n",
       "      <th>pixel776</th>\n",
       "      <th>pixel777</th>\n",
       "      <th>pixel778</th>\n",
       "      <th>pixel779</th>\n",
       "      <th>pixel780</th>\n",
       "      <th>pixel781</th>\n",
       "      <th>pixel782</th>\n",
       "      <th>pixel783</th>\n",
       "    </tr>\n",
       "  </thead>\n",
       "  <tbody>\n",
       "    <tr>\n",
       "      <th>0</th>\n",
       "      <td>1</td>\n",
       "      <td>0</td>\n",
       "      <td>0</td>\n",
       "      <td>0</td>\n",
       "      <td>0</td>\n",
       "      <td>0</td>\n",
       "      <td>0</td>\n",
       "      <td>0</td>\n",
       "      <td>0</td>\n",
       "      <td>0</td>\n",
       "      <td>...</td>\n",
       "      <td>0</td>\n",
       "      <td>0</td>\n",
       "      <td>0</td>\n",
       "      <td>0</td>\n",
       "      <td>0</td>\n",
       "      <td>0</td>\n",
       "      <td>0</td>\n",
       "      <td>0</td>\n",
       "      <td>0</td>\n",
       "      <td>0</td>\n",
       "    </tr>\n",
       "    <tr>\n",
       "      <th>1</th>\n",
       "      <td>0</td>\n",
       "      <td>0</td>\n",
       "      <td>0</td>\n",
       "      <td>0</td>\n",
       "      <td>0</td>\n",
       "      <td>0</td>\n",
       "      <td>0</td>\n",
       "      <td>0</td>\n",
       "      <td>0</td>\n",
       "      <td>0</td>\n",
       "      <td>...</td>\n",
       "      <td>0</td>\n",
       "      <td>0</td>\n",
       "      <td>0</td>\n",
       "      <td>0</td>\n",
       "      <td>0</td>\n",
       "      <td>0</td>\n",
       "      <td>0</td>\n",
       "      <td>0</td>\n",
       "      <td>0</td>\n",
       "      <td>0</td>\n",
       "    </tr>\n",
       "    <tr>\n",
       "      <th>2</th>\n",
       "      <td>1</td>\n",
       "      <td>0</td>\n",
       "      <td>0</td>\n",
       "      <td>0</td>\n",
       "      <td>0</td>\n",
       "      <td>0</td>\n",
       "      <td>0</td>\n",
       "      <td>0</td>\n",
       "      <td>0</td>\n",
       "      <td>0</td>\n",
       "      <td>...</td>\n",
       "      <td>0</td>\n",
       "      <td>0</td>\n",
       "      <td>0</td>\n",
       "      <td>0</td>\n",
       "      <td>0</td>\n",
       "      <td>0</td>\n",
       "      <td>0</td>\n",
       "      <td>0</td>\n",
       "      <td>0</td>\n",
       "      <td>0</td>\n",
       "    </tr>\n",
       "    <tr>\n",
       "      <th>3</th>\n",
       "      <td>4</td>\n",
       "      <td>0</td>\n",
       "      <td>0</td>\n",
       "      <td>0</td>\n",
       "      <td>0</td>\n",
       "      <td>0</td>\n",
       "      <td>0</td>\n",
       "      <td>0</td>\n",
       "      <td>0</td>\n",
       "      <td>0</td>\n",
       "      <td>...</td>\n",
       "      <td>0</td>\n",
       "      <td>0</td>\n",
       "      <td>0</td>\n",
       "      <td>0</td>\n",
       "      <td>0</td>\n",
       "      <td>0</td>\n",
       "      <td>0</td>\n",
       "      <td>0</td>\n",
       "      <td>0</td>\n",
       "      <td>0</td>\n",
       "    </tr>\n",
       "    <tr>\n",
       "      <th>4</th>\n",
       "      <td>0</td>\n",
       "      <td>0</td>\n",
       "      <td>0</td>\n",
       "      <td>0</td>\n",
       "      <td>0</td>\n",
       "      <td>0</td>\n",
       "      <td>0</td>\n",
       "      <td>0</td>\n",
       "      <td>0</td>\n",
       "      <td>0</td>\n",
       "      <td>...</td>\n",
       "      <td>0</td>\n",
       "      <td>0</td>\n",
       "      <td>0</td>\n",
       "      <td>0</td>\n",
       "      <td>0</td>\n",
       "      <td>0</td>\n",
       "      <td>0</td>\n",
       "      <td>0</td>\n",
       "      <td>0</td>\n",
       "      <td>0</td>\n",
       "    </tr>\n",
       "  </tbody>\n",
       "</table>\n",
       "<p>5 rows × 785 columns</p>\n",
       "</div>"
      ],
      "text/plain": [
       "   label  pixel0  pixel1  pixel2  pixel3  pixel4  pixel5  pixel6  pixel7  \\\n",
       "0      1       0       0       0       0       0       0       0       0   \n",
       "1      0       0       0       0       0       0       0       0       0   \n",
       "2      1       0       0       0       0       0       0       0       0   \n",
       "3      4       0       0       0       0       0       0       0       0   \n",
       "4      0       0       0       0       0       0       0       0       0   \n",
       "\n",
       "   pixel8  ...  pixel774  pixel775  pixel776  pixel777  pixel778  pixel779  \\\n",
       "0       0  ...         0         0         0         0         0         0   \n",
       "1       0  ...         0         0         0         0         0         0   \n",
       "2       0  ...         0         0         0         0         0         0   \n",
       "3       0  ...         0         0         0         0         0         0   \n",
       "4       0  ...         0         0         0         0         0         0   \n",
       "\n",
       "   pixel780  pixel781  pixel782  pixel783  \n",
       "0         0         0         0         0  \n",
       "1         0         0         0         0  \n",
       "2         0         0         0         0  \n",
       "3         0         0         0         0  \n",
       "4         0         0         0         0  \n",
       "\n",
       "[5 rows x 785 columns]"
      ]
     },
     "execution_count": 4,
     "metadata": {},
     "output_type": "execute_result"
    }
   ],
   "source": [
    "train_df.head()"
   ]
  },
  {
   "cell_type": "code",
   "execution_count": 5,
   "id": "0840975f",
   "metadata": {
    "execution": {
     "iopub.execute_input": "2023-07-27T22:27:14.307092Z",
     "iopub.status.busy": "2023-07-27T22:27:14.306732Z",
     "iopub.status.idle": "2023-07-27T22:27:14.322967Z",
     "shell.execute_reply": "2023-07-27T22:27:14.321862Z"
    },
    "papermill": {
     "duration": 0.025679,
     "end_time": "2023-07-27T22:27:14.325396",
     "exception": false,
     "start_time": "2023-07-27T22:27:14.299717",
     "status": "completed"
    },
    "tags": []
   },
   "outputs": [
    {
     "data": {
      "text/html": [
       "<div>\n",
       "<style scoped>\n",
       "    .dataframe tbody tr th:only-of-type {\n",
       "        vertical-align: middle;\n",
       "    }\n",
       "\n",
       "    .dataframe tbody tr th {\n",
       "        vertical-align: top;\n",
       "    }\n",
       "\n",
       "    .dataframe thead th {\n",
       "        text-align: right;\n",
       "    }\n",
       "</style>\n",
       "<table border=\"1\" class=\"dataframe\">\n",
       "  <thead>\n",
       "    <tr style=\"text-align: right;\">\n",
       "      <th></th>\n",
       "      <th>pixel0</th>\n",
       "      <th>pixel1</th>\n",
       "      <th>pixel2</th>\n",
       "      <th>pixel3</th>\n",
       "      <th>pixel4</th>\n",
       "      <th>pixel5</th>\n",
       "      <th>pixel6</th>\n",
       "      <th>pixel7</th>\n",
       "      <th>pixel8</th>\n",
       "      <th>pixel9</th>\n",
       "      <th>...</th>\n",
       "      <th>pixel774</th>\n",
       "      <th>pixel775</th>\n",
       "      <th>pixel776</th>\n",
       "      <th>pixel777</th>\n",
       "      <th>pixel778</th>\n",
       "      <th>pixel779</th>\n",
       "      <th>pixel780</th>\n",
       "      <th>pixel781</th>\n",
       "      <th>pixel782</th>\n",
       "      <th>pixel783</th>\n",
       "    </tr>\n",
       "  </thead>\n",
       "  <tbody>\n",
       "    <tr>\n",
       "      <th>0</th>\n",
       "      <td>0</td>\n",
       "      <td>0</td>\n",
       "      <td>0</td>\n",
       "      <td>0</td>\n",
       "      <td>0</td>\n",
       "      <td>0</td>\n",
       "      <td>0</td>\n",
       "      <td>0</td>\n",
       "      <td>0</td>\n",
       "      <td>0</td>\n",
       "      <td>...</td>\n",
       "      <td>0</td>\n",
       "      <td>0</td>\n",
       "      <td>0</td>\n",
       "      <td>0</td>\n",
       "      <td>0</td>\n",
       "      <td>0</td>\n",
       "      <td>0</td>\n",
       "      <td>0</td>\n",
       "      <td>0</td>\n",
       "      <td>0</td>\n",
       "    </tr>\n",
       "    <tr>\n",
       "      <th>1</th>\n",
       "      <td>0</td>\n",
       "      <td>0</td>\n",
       "      <td>0</td>\n",
       "      <td>0</td>\n",
       "      <td>0</td>\n",
       "      <td>0</td>\n",
       "      <td>0</td>\n",
       "      <td>0</td>\n",
       "      <td>0</td>\n",
       "      <td>0</td>\n",
       "      <td>...</td>\n",
       "      <td>0</td>\n",
       "      <td>0</td>\n",
       "      <td>0</td>\n",
       "      <td>0</td>\n",
       "      <td>0</td>\n",
       "      <td>0</td>\n",
       "      <td>0</td>\n",
       "      <td>0</td>\n",
       "      <td>0</td>\n",
       "      <td>0</td>\n",
       "    </tr>\n",
       "    <tr>\n",
       "      <th>2</th>\n",
       "      <td>0</td>\n",
       "      <td>0</td>\n",
       "      <td>0</td>\n",
       "      <td>0</td>\n",
       "      <td>0</td>\n",
       "      <td>0</td>\n",
       "      <td>0</td>\n",
       "      <td>0</td>\n",
       "      <td>0</td>\n",
       "      <td>0</td>\n",
       "      <td>...</td>\n",
       "      <td>0</td>\n",
       "      <td>0</td>\n",
       "      <td>0</td>\n",
       "      <td>0</td>\n",
       "      <td>0</td>\n",
       "      <td>0</td>\n",
       "      <td>0</td>\n",
       "      <td>0</td>\n",
       "      <td>0</td>\n",
       "      <td>0</td>\n",
       "    </tr>\n",
       "    <tr>\n",
       "      <th>3</th>\n",
       "      <td>0</td>\n",
       "      <td>0</td>\n",
       "      <td>0</td>\n",
       "      <td>0</td>\n",
       "      <td>0</td>\n",
       "      <td>0</td>\n",
       "      <td>0</td>\n",
       "      <td>0</td>\n",
       "      <td>0</td>\n",
       "      <td>0</td>\n",
       "      <td>...</td>\n",
       "      <td>0</td>\n",
       "      <td>0</td>\n",
       "      <td>0</td>\n",
       "      <td>0</td>\n",
       "      <td>0</td>\n",
       "      <td>0</td>\n",
       "      <td>0</td>\n",
       "      <td>0</td>\n",
       "      <td>0</td>\n",
       "      <td>0</td>\n",
       "    </tr>\n",
       "    <tr>\n",
       "      <th>4</th>\n",
       "      <td>0</td>\n",
       "      <td>0</td>\n",
       "      <td>0</td>\n",
       "      <td>0</td>\n",
       "      <td>0</td>\n",
       "      <td>0</td>\n",
       "      <td>0</td>\n",
       "      <td>0</td>\n",
       "      <td>0</td>\n",
       "      <td>0</td>\n",
       "      <td>...</td>\n",
       "      <td>0</td>\n",
       "      <td>0</td>\n",
       "      <td>0</td>\n",
       "      <td>0</td>\n",
       "      <td>0</td>\n",
       "      <td>0</td>\n",
       "      <td>0</td>\n",
       "      <td>0</td>\n",
       "      <td>0</td>\n",
       "      <td>0</td>\n",
       "    </tr>\n",
       "  </tbody>\n",
       "</table>\n",
       "<p>5 rows × 784 columns</p>\n",
       "</div>"
      ],
      "text/plain": [
       "   pixel0  pixel1  pixel2  pixel3  pixel4  pixel5  pixel6  pixel7  pixel8  \\\n",
       "0       0       0       0       0       0       0       0       0       0   \n",
       "1       0       0       0       0       0       0       0       0       0   \n",
       "2       0       0       0       0       0       0       0       0       0   \n",
       "3       0       0       0       0       0       0       0       0       0   \n",
       "4       0       0       0       0       0       0       0       0       0   \n",
       "\n",
       "   pixel9  ...  pixel774  pixel775  pixel776  pixel777  pixel778  pixel779  \\\n",
       "0       0  ...         0         0         0         0         0         0   \n",
       "1       0  ...         0         0         0         0         0         0   \n",
       "2       0  ...         0         0         0         0         0         0   \n",
       "3       0  ...         0         0         0         0         0         0   \n",
       "4       0  ...         0         0         0         0         0         0   \n",
       "\n",
       "   pixel780  pixel781  pixel782  pixel783  \n",
       "0         0         0         0         0  \n",
       "1         0         0         0         0  \n",
       "2         0         0         0         0  \n",
       "3         0         0         0         0  \n",
       "4         0         0         0         0  \n",
       "\n",
       "[5 rows x 784 columns]"
      ]
     },
     "execution_count": 5,
     "metadata": {},
     "output_type": "execute_result"
    }
   ],
   "source": [
    "test_df.head()"
   ]
  },
  {
   "cell_type": "code",
   "execution_count": 6,
   "id": "908310ce",
   "metadata": {
    "execution": {
     "iopub.execute_input": "2023-07-27T22:27:14.339233Z",
     "iopub.status.busy": "2023-07-27T22:27:14.338870Z",
     "iopub.status.idle": "2023-07-27T22:27:14.668371Z",
     "shell.execute_reply": "2023-07-27T22:27:14.666315Z"
    },
    "papermill": {
     "duration": 0.339682,
     "end_time": "2023-07-27T22:27:14.671289",
     "exception": false,
     "start_time": "2023-07-27T22:27:14.331607",
     "status": "completed"
    },
    "tags": []
   },
   "outputs": [
    {
     "data": {
      "text/plain": [
       "<Axes: xlabel='label', ylabel='count'>"
      ]
     },
     "execution_count": 6,
     "metadata": {},
     "output_type": "execute_result"
    },
    {
     "data": {
      "image/png": "[encoded data removed]",
      "text/plain": [
       "<Figure size 640x480 with 1 Axes>"
      ]
     },
     "metadata": {},
     "output_type": "display_data"
    }
   ],
   "source": [
    "# We have equal categories in train set\n",
    "sns.countplot(x=train_df['label'], color='b')"
   ]
  },
  {
   "cell_type": "code",
   "execution_count": 7,
   "id": "e7d001c1",
   "metadata": {
    "execution": {
     "iopub.execute_input": "2023-07-27T22:27:14.686441Z",
     "iopub.status.busy": "2023-07-27T22:27:14.686045Z",
     "iopub.status.idle": "2023-07-27T22:27:14.736302Z",
     "shell.execute_reply": "2023-07-27T22:27:14.734896Z"
    },
    "papermill": {
     "duration": 0.06103,
     "end_time": "2023-07-27T22:27:14.738954",
     "exception": false,
     "start_time": "2023-07-27T22:27:14.677924",
     "status": "completed"
    },
    "tags": []
   },
   "outputs": [],
   "source": [
    "X_train = train_df.drop(columns='label')\n",
    "y_train = train_df['label']\n",
    "X_test = test_df"
   ]
  },
  {
   "cell_type": "code",
   "execution_count": 8,
   "id": "ea03ca2f",
   "metadata": {
    "execution": {
     "iopub.execute_input": "2023-07-27T22:27:14.753409Z",
     "iopub.status.busy": "2023-07-27T22:27:14.753033Z",
     "iopub.status.idle": "2023-07-27T22:27:14.759125Z",
     "shell.execute_reply": "2023-07-27T22:27:14.757767Z"
    },
    "papermill": {
     "duration": 0.015597,
     "end_time": "2023-07-27T22:27:14.761080",
     "exception": false,
     "start_time": "2023-07-27T22:27:14.745483",
     "status": "completed"
    },
    "tags": []
   },
   "outputs": [
    {
     "name": "stdout",
     "output_type": "stream",
     "text": [
      "X_train shape: (42000, 784)\n",
      "y_train shape: (42000,)\n",
      "X_test shape: (28000, 784)\n"
     ]
    }
   ],
   "source": [
    "print('X_train shape:', X_train.shape)\n",
    "print('y_train shape:', y_train.shape)\n",
    "print('X_test shape:', X_test.shape)"
   ]
  },
  {
   "cell_type": "code",
   "execution_count": 9,
   "id": "2fff948e",
   "metadata": {
    "execution": {
     "iopub.execute_input": "2023-07-27T22:27:14.775783Z",
     "iopub.status.busy": "2023-07-27T22:27:14.775400Z",
     "iopub.status.idle": "2023-07-27T22:27:14.845850Z",
     "shell.execute_reply": "2023-07-27T22:27:14.844869Z"
    },
    "papermill": {
     "duration": 0.080352,
     "end_time": "2023-07-27T22:27:14.848011",
     "exception": false,
     "start_time": "2023-07-27T22:27:14.767659",
     "status": "completed"
    },
    "tags": []
   },
   "outputs": [],
   "source": [
    "# Normalization\n",
    "X_train /= 255.0\n",
    "X_test /= 255.0"
   ]
  },
  {
   "cell_type": "code",
   "execution_count": 10,
   "id": "8d45a2e4",
   "metadata": {
    "execution": {
     "iopub.execute_input": "2023-07-27T22:27:14.862616Z",
     "iopub.status.busy": "2023-07-27T22:27:14.862282Z",
     "iopub.status.idle": "2023-07-27T22:27:14.867300Z",
     "shell.execute_reply": "2023-07-27T22:27:14.866098Z"
    },
    "papermill": {
     "duration": 0.014981,
     "end_time": "2023-07-27T22:27:14.869631",
     "exception": false,
     "start_time": "2023-07-27T22:27:14.854650",
     "status": "completed"
    },
    "tags": []
   },
   "outputs": [],
   "source": [
    "# Reshape\n",
    "X_train = X_train.values.reshape(-1, 28, 28, 1)\n",
    "X_test = X_test.values.reshape(-1, 28, 28, 1)"
   ]
  },
  {
   "cell_type": "code",
   "execution_count": 11,
   "id": "97b90112",
   "metadata": {
    "execution": {
     "iopub.execute_input": "2023-07-27T22:27:14.885290Z",
     "iopub.status.busy": "2023-07-27T22:27:14.884563Z",
     "iopub.status.idle": "2023-07-27T22:27:14.889833Z",
     "shell.execute_reply": "2023-07-27T22:27:14.888602Z"
    },
    "papermill": {
     "duration": 0.015728,
     "end_time": "2023-07-27T22:27:14.892131",
     "exception": false,
     "start_time": "2023-07-27T22:27:14.876403",
     "status": "completed"
    },
    "tags": []
   },
   "outputs": [],
   "source": [
    "# Onehot Encoding\n",
    "y_train = keras.utils.to_categorical(y_train)"
   ]
  },
  {
   "cell_type": "code",
   "execution_count": 12,
   "id": "f5a112ca",
   "metadata": {
    "execution": {
     "iopub.execute_input": "2023-07-27T22:27:14.907332Z",
     "iopub.status.busy": "2023-07-27T22:27:14.906942Z",
     "iopub.status.idle": "2023-07-27T22:27:15.142065Z",
     "shell.execute_reply": "2023-07-27T22:27:15.140875Z"
    },
    "papermill": {
     "duration": 0.245972,
     "end_time": "2023-07-27T22:27:15.144892",
     "exception": false,
     "start_time": "2023-07-27T22:27:14.898920",
     "status": "completed"
    },
    "tags": []
   },
   "outputs": [],
   "source": [
    "# Split the data to training and validation sets\n",
    "X_train, X_val, y_train, y_val = train_test_split(X_train, y_train, test_size=0.1, random_state=42)"
   ]
  },
  {
   "cell_type": "code",
   "execution_count": 13,
   "id": "948f648d",
   "metadata": {
    "execution": {
     "iopub.execute_input": "2023-07-27T22:27:15.160029Z",
     "iopub.status.busy": "2023-07-27T22:27:15.159689Z",
     "iopub.status.idle": "2023-07-27T22:27:16.233685Z",
     "shell.execute_reply": "2023-07-27T22:27:16.232334Z"
    },
    "papermill": {
     "duration": 1.084793,
     "end_time": "2023-07-27T22:27:16.236363",
     "exception": false,
     "start_time": "2023-07-27T22:27:15.151570",
     "status": "completed"
    },
    "tags": []
   },
   "outputs": [
    {
     "data": {
      "image/png": "[encoded data removed]",
      "text/plain": [
       "<Figure size 900x900 with 10 Axes>"
      ]
     },
     "metadata": {},
     "output_type": "display_data"
    }
   ],
   "source": [
    "# Plot some examples\n",
    "plt.figure(figsize=(9,9))\n",
    "for i in range(10):\n",
    "    plt.subplot(5, 5, i+1)\n",
    "    plt.imshow(X_train[i], cmap='gray')\n",
    "    plt.title(np.argmax(y_train[i]))\n",
    "    plt.axis('off')\n",
    "plt.show()"
   ]
  },
  {
   "cell_type": "code",
   "execution_count": 14,
   "id": "a57d65fe",
   "metadata": {
    "execution": {
     "iopub.execute_input": "2023-07-27T22:27:16.254233Z",
     "iopub.status.busy": "2023-07-27T22:27:16.253392Z",
     "iopub.status.idle": "2023-07-27T22:27:16.454546Z",
     "shell.execute_reply": "2023-07-27T22:27:16.453419Z"
    },
    "papermill": {
     "duration": 0.21243,
     "end_time": "2023-07-27T22:27:16.456791",
     "exception": false,
     "start_time": "2023-07-27T22:27:16.244361",
     "status": "completed"
    },
    "tags": []
   },
   "outputs": [],
   "source": [
    "# Define the model\n",
    "from keras.models import Sequential\n",
    "from keras.layers import Dense, Dropout, Flatten, Conv2D, MaxPool2D\n",
    "from keras.optimizers import Adam\n",
    "from keras.preprocessing.image import ImageDataGenerator\n",
    "\n",
    "model = keras.Sequential(\n",
    "[\n",
    "    Conv2D(32, (5,5), padding='Same', activation='relu', input_shape=(28,28,1)),\n",
    "    MaxPool2D((2,2)),\n",
    "    Dropout(0.25),\n",
    "    Flatten(),\n",
    "    Dense(256, activation='relu'),\n",
    "    Dense(10, activation='softmax'),\n",
    "]\n",
    ")"
   ]
  },
  {
   "cell_type": "code",
   "execution_count": 15,
   "id": "95ce7212",
   "metadata": {
    "execution": {
     "iopub.execute_input": "2023-07-27T22:27:16.472106Z",
     "iopub.status.busy": "2023-07-27T22:27:16.471526Z",
     "iopub.status.idle": "2023-07-27T22:27:16.493868Z",
     "shell.execute_reply": "2023-07-27T22:27:16.493025Z"
    },
    "papermill": {
     "duration": 0.03278,
     "end_time": "2023-07-27T22:27:16.496377",
     "exception": false,
     "start_time": "2023-07-27T22:27:16.463597",
     "status": "completed"
    },
    "tags": []
   },
   "outputs": [
    {
     "name": "stdout",
     "output_type": "stream",
     "text": [
      "Model: \"sequential\"\n",
      "_________________________________________________________________\n",
      " Layer (type)                Output Shape              Param #   \n",
      "=================================================================\n",
      " conv2d (Conv2D)             (None, 28, 28, 32)        832       \n",
      "                                                                 \n",
      " max_pooling2d (MaxPooling2D  (None, 14, 14, 32)       0         \n",
      " )                                                               \n",
      "                                                                 \n",
      " dropout (Dropout)           (None, 14, 14, 32)        0         \n",
      "                                                                 \n",
      " flatten (Flatten)           (None, 6272)              0         \n",
      "                                                                 \n",
      " dense (Dense)               (None, 256)               1605888   \n",
      "                                                                 \n",
      " dense_1 (Dense)             (None, 10)                2570      \n",
      "                                                                 \n",
      "=================================================================\n",
      "Total params: 1,609,290\n",
      "Trainable params: 1,609,290\n",
      "Non-trainable params: 0\n",
      "_________________________________________________________________\n"
     ]
    }
   ],
   "source": [
    "model.summary()"
   ]
  },
  {
   "cell_type": "code",
   "execution_count": 16,
   "id": "6419289a",
   "metadata": {
    "execution": {
     "iopub.execute_input": "2023-07-27T22:27:16.514110Z",
     "iopub.status.busy": "2023-07-27T22:27:16.513722Z",
     "iopub.status.idle": "2023-07-27T22:27:16.532563Z",
     "shell.execute_reply": "2023-07-27T22:27:16.531116Z"
    },
    "papermill": {
     "duration": 0.030684,
     "end_time": "2023-07-27T22:27:16.535145",
     "exception": false,
     "start_time": "2023-07-27T22:27:16.504461",
     "status": "completed"
    },
    "tags": []
   },
   "outputs": [],
   "source": [
    "model.compile(optimizer = Adam(learning_rate=0.001), loss='categorical_crossentropy', metrics=['accuracy'])"
   ]
  },
  {
   "cell_type": "code",
   "execution_count": 17,
   "id": "8cff6db0",
   "metadata": {
    "execution": {
     "iopub.execute_input": "2023-07-27T22:27:16.553998Z",
     "iopub.status.busy": "2023-07-27T22:27:16.552680Z",
     "iopub.status.idle": "2023-07-27T22:27:16.602132Z",
     "shell.execute_reply": "2023-07-27T22:27:16.601192Z"
    },
    "papermill": {
     "duration": 0.060876,
     "end_time": "2023-07-27T22:27:16.604432",
     "exception": false,
     "start_time": "2023-07-27T22:27:16.543556",
     "status": "completed"
    },
    "tags": []
   },
   "outputs": [],
   "source": [
    "# Data Augmantation\n",
    "datagen = ImageDataGenerator(\n",
    "        rotation_range=5,\n",
    "        zoom_range = 0.1,\n",
    "        width_shift_range=0.1,\n",
    "        height_shift_range=0.1,\n",
    "        horizontal_flip=False,\n",
    "        vertical_flip=False)\n",
    "\n",
    "datagen.fit(X_train)"
   ]
  },
  {
   "cell_type": "code",
   "execution_count": 18,
   "id": "1d52b424",
   "metadata": {
    "execution": {
     "iopub.execute_input": "2023-07-27T22:27:16.622058Z",
     "iopub.status.busy": "2023-07-27T22:27:16.621681Z",
     "iopub.status.idle": "2023-07-27T22:31:55.367339Z",
     "shell.execute_reply": "2023-07-27T22:31:55.366165Z"
    },
    "papermill": {
     "duration": 278.756841,
     "end_time": "2023-07-27T22:31:55.369347",
     "exception": false,
     "start_time": "2023-07-27T22:27:16.612506",
     "status": "completed"
    },
    "tags": []
   },
   "outputs": [
    {
     "name": "stdout",
     "output_type": "stream",
     "text": [
      "Epoch 1/30\n",
      "295/295 [==============================] - 7s 23ms/step - loss: 0.6690 - accuracy: 0.7909 - val_loss: 0.1806 - val_accuracy: 0.9471\n",
      "Epoch 2/30\n",
      "295/295 [==============================] - 7s 22ms/step - loss: 0.2396 - accuracy: 0.9319 - val_loss: 0.1405 - val_accuracy: 0.9533\n",
      "Epoch 3/30\n",
      "295/295 [==============================] - 7s 22ms/step - loss: 0.1928 - accuracy: 0.9389 - val_loss: 0.1019 - val_accuracy: 0.9681\n",
      "Epoch 4/30\n",
      "295/295 [==============================] - 7s 23ms/step - loss: 0.1522 - accuracy: 0.9518 - val_loss: 0.1003 - val_accuracy: 0.9688\n",
      "Epoch 5/30\n",
      "295/295 [==============================] - 7s 22ms/step - loss: 0.1309 - accuracy: 0.9600 - val_loss: 0.0795 - val_accuracy: 0.9760\n",
      "Epoch 6/30\n",
      "295/295 [==============================] - 7s 22ms/step - loss: 0.1337 - accuracy: 0.9595 - val_loss: 0.0760 - val_accuracy: 0.9740\n",
      "Epoch 7/30\n",
      "295/295 [==============================] - 6s 22ms/step - loss: 0.1070 - accuracy: 0.9662 - val_loss: 0.0678 - val_accuracy: 0.9793\n",
      "Epoch 8/30\n",
      "295/295 [==============================] - 7s 22ms/step - loss: 0.1014 - accuracy: 0.9690 - val_loss: 0.0679 - val_accuracy: 0.9795\n",
      "Epoch 9/30\n",
      "295/295 [==============================] - 7s 22ms/step - loss: 0.0977 - accuracy: 0.9673 - val_loss: 0.0527 - val_accuracy: 0.9852\n",
      "Epoch 10/30\n",
      "295/295 [==============================] - 7s 22ms/step - loss: 0.0823 - accuracy: 0.9731 - val_loss: 0.0539 - val_accuracy: 0.9845\n",
      "Epoch 11/30\n",
      "295/295 [==============================] - 7s 23ms/step - loss: 0.0892 - accuracy: 0.9730 - val_loss: 0.0483 - val_accuracy: 0.9848\n",
      "Epoch 12/30\n",
      "295/295 [==============================] - 7s 22ms/step - loss: 0.0799 - accuracy: 0.9742 - val_loss: 0.0470 - val_accuracy: 0.9836\n",
      "Epoch 13/30\n",
      "295/295 [==============================] - 6s 22ms/step - loss: 0.0844 - accuracy: 0.9727 - val_loss: 0.0458 - val_accuracy: 0.9857\n",
      "Epoch 14/30\n",
      "295/295 [==============================] - 7s 22ms/step - loss: 0.0738 - accuracy: 0.9770 - val_loss: 0.0498 - val_accuracy: 0.9855\n",
      "Epoch 15/30\n",
      "295/295 [==============================] - 7s 23ms/step - loss: 0.0738 - accuracy: 0.9759 - val_loss: 0.0478 - val_accuracy: 0.9848\n",
      "Epoch 16/30\n",
      "295/295 [==============================] - 7s 23ms/step - loss: 0.0677 - accuracy: 0.9769 - val_loss: 0.0469 - val_accuracy: 0.9860\n",
      "Epoch 17/30\n",
      "295/295 [==============================] - 7s 23ms/step - loss: 0.0738 - accuracy: 0.9754 - val_loss: 0.0472 - val_accuracy: 0.9843\n",
      "Epoch 18/30\n",
      "295/295 [==============================] - 7s 23ms/step - loss: 0.0665 - accuracy: 0.9798 - val_loss: 0.0489 - val_accuracy: 0.9850\n",
      "Epoch 19/30\n",
      "295/295 [==============================] - 7s 24ms/step - loss: 0.0679 - accuracy: 0.9786 - val_loss: 0.0479 - val_accuracy: 0.9850\n",
      "Epoch 20/30\n",
      "295/295 [==============================] - 7s 23ms/step - loss: 0.0734 - accuracy: 0.9764 - val_loss: 0.0429 - val_accuracy: 0.9869\n",
      "Epoch 21/30\n",
      "295/295 [==============================] - 7s 23ms/step - loss: 0.0649 - accuracy: 0.9797 - val_loss: 0.0410 - val_accuracy: 0.9883\n",
      "Epoch 22/30\n",
      "295/295 [==============================] - 7s 23ms/step - loss: 0.0557 - accuracy: 0.9816 - val_loss: 0.0461 - val_accuracy: 0.9862\n",
      "Epoch 23/30\n",
      "295/295 [==============================] - 7s 23ms/step - loss: 0.0627 - accuracy: 0.9799 - val_loss: 0.0425 - val_accuracy: 0.9874\n",
      "Epoch 24/30\n",
      "295/295 [==============================] - 7s 23ms/step - loss: 0.0680 - accuracy: 0.9783 - val_loss: 0.0485 - val_accuracy: 0.9850\n",
      "Epoch 25/30\n",
      "295/295 [==============================] - 7s 23ms/step - loss: 0.0584 - accuracy: 0.9814 - val_loss: 0.0437 - val_accuracy: 0.9874\n",
      "Epoch 26/30\n",
      "295/295 [==============================] - 7s 23ms/step - loss: 0.0556 - accuracy: 0.9823 - val_loss: 0.0451 - val_accuracy: 0.9890\n",
      "Epoch 27/30\n",
      "295/295 [==============================] - 7s 24ms/step - loss: 0.0578 - accuracy: 0.9816 - val_loss: 0.0488 - val_accuracy: 0.9874\n",
      "Epoch 28/30\n",
      "295/295 [==============================] - 7s 23ms/step - loss: 0.0542 - accuracy: 0.9841 - val_loss: 0.0551 - val_accuracy: 0.9843\n",
      "Epoch 29/30\n",
      "295/295 [==============================] - 7s 23ms/step - loss: 0.0563 - accuracy: 0.9825 - val_loss: 0.0398 - val_accuracy: 0.9893\n",
      "Epoch 30/30\n",
      "295/295 [==============================] - 7s 22ms/step - loss: 0.0536 - accuracy: 0.9816 - val_loss: 0.0456 - val_accuracy: 0.9864\n"
     ]
    }
   ],
   "source": [
    "# Fit the model\n",
    "batch_size = 128\n",
    "history = model.fit(datagen.flow(X_train,y_train),\n",
    "                              batch_size = batch_size,\n",
    "                              epochs = 30,\n",
    "                              steps_per_epoch = X_train.shape[0] // batch_size,\n",
    "                              validation_data = (X_val,y_val),\n",
    "                             )"
   ]
  },
  {
   "cell_type": "code",
   "execution_count": 19,
   "id": "90d6030b",
   "metadata": {
    "execution": {
     "iopub.execute_input": "2023-07-27T22:31:55.729223Z",
     "iopub.status.busy": "2023-07-27T22:31:55.728047Z",
     "iopub.status.idle": "2023-07-27T22:31:55.997745Z",
     "shell.execute_reply": "2023-07-27T22:31:55.996360Z"
    },
    "papermill": {
     "duration": 0.45299,
     "end_time": "2023-07-27T22:31:56.000879",
     "exception": false,
     "start_time": "2023-07-27T22:31:55.547889",
     "status": "completed"
    },
    "tags": []
   },
   "outputs": [
    {
     "data": {
      "image/png": "[encoded data removed]",
      "text/plain": [
       "<Figure size 700x400 with 1 Axes>"
      ]
     },
     "metadata": {},
     "output_type": "display_data"
    }
   ],
   "source": [
    "# Plot the loss for training and validation sets\n",
    "plt.figure(figsize=(7,4))\n",
    "plt.plot(history.history['loss'], color='b', label=\"Training loss\")\n",
    "plt.plot(history.history['val_loss'], color='r', label=\"validation loss\")\n",
    "plt.legend(loc='best', shadow=True)\n",
    "plt.show()"
   ]
  },
  {
   "cell_type": "code",
   "execution_count": 20,
   "id": "f02e45bb",
   "metadata": {
    "execution": {
     "iopub.execute_input": "2023-07-27T22:31:56.427984Z",
     "iopub.status.busy": "2023-07-27T22:31:56.427355Z",
     "iopub.status.idle": "2023-07-27T22:31:57.611211Z",
     "shell.execute_reply": "2023-07-27T22:31:57.609696Z"
    },
    "papermill": {
     "duration": 1.369649,
     "end_time": "2023-07-27T22:31:57.613725",
     "exception": false,
     "start_time": "2023-07-27T22:31:56.244076",
     "status": "completed"
    },
    "tags": []
   },
   "outputs": [
    {
     "name": "stdout",
     "output_type": "stream",
     "text": [
      "132/132 [==============================] - 1s 7ms/step\n"
     ]
    }
   ],
   "source": [
    "preds = model.predict(X_val)"
   ]
  },
  {
   "cell_type": "code",
   "execution_count": 21,
   "id": "44adb265",
   "metadata": {
    "execution": {
     "iopub.execute_input": "2023-07-27T22:31:57.982043Z",
     "iopub.status.busy": "2023-07-27T22:31:57.981213Z",
     "iopub.status.idle": "2023-07-27T22:31:58.948418Z",
     "shell.execute_reply": "2023-07-27T22:31:58.947314Z"
    },
    "papermill": {
     "duration": 1.155426,
     "end_time": "2023-07-27T22:31:58.950786",
     "exception": false,
     "start_time": "2023-07-27T22:31:57.795360",
     "status": "completed"
    },
    "tags": []
   },
   "outputs": [
    {
     "data": {
      "image/png": "[encoded data removed]",
      "text/plain": [
       "<Figure size 1000x1000 with 9 Axes>"
      ]
     },
     "metadata": {},
     "output_type": "display_data"
    }
   ],
   "source": [
    "# Plot 9 of the False Results from validation set\n",
    "# get the labels\n",
    "preds_labels = np.argmax(preds,axis = 1)\n",
    "y_val_labels = np.argmax(y_val,axis = 1)\n",
    "\n",
    "errors = (preds_labels - y_val_labels != 0)\n",
    "preds_errors = preds_labels[errors]\n",
    "preds_true = y_val_labels[errors]\n",
    "X_val_true = X_val[errors]\n",
    "\n",
    "# make the plot\n",
    "i = 0\n",
    "fig, axes = plt.subplots(3,3,figsize=(10,10), sharex=True, sharey=True)\n",
    "for row in range(3):\n",
    "    for col in range(3):\n",
    "        axes[row,col].imshow((X_val_true[i]), cmap='gray')\n",
    "        axes[row,col].set_title(f'Predicted: {preds_errors[i]} | True: {preds_true[i]}')\n",
    "        axes[row,col].axis('off')\n",
    "        i += 1\n",
    "plt.show()"
   ]
  },
  {
   "cell_type": "code",
   "execution_count": 22,
   "id": "c4cb8a5d",
   "metadata": {
    "execution": {
     "iopub.execute_input": "2023-07-27T22:31:59.317523Z",
     "iopub.status.busy": "2023-07-27T22:31:59.316741Z",
     "iopub.status.idle": "2023-07-27T22:31:59.325288Z",
     "shell.execute_reply": "2023-07-27T22:31:59.324572Z"
    },
    "papermill": {
     "duration": 0.195265,
     "end_time": "2023-07-27T22:31:59.327017",
     "exception": false,
     "start_time": "2023-07-27T22:31:59.131752",
     "status": "completed"
    },
    "tags": []
   },
   "outputs": [
    {
     "data": {
      "text/html": [
       "<div>\n",
       "<style scoped>\n",
       "    .dataframe tbody tr th:only-of-type {\n",
       "        vertical-align: middle;\n",
       "    }\n",
       "\n",
       "    .dataframe tbody tr th {\n",
       "        vertical-align: top;\n",
       "    }\n",
       "\n",
       "    .dataframe thead th {\n",
       "        text-align: right;\n",
       "    }\n",
       "</style>\n",
       "<table border=\"1\" class=\"dataframe\">\n",
       "  <thead>\n",
       "    <tr style=\"text-align: right;\">\n",
       "      <th></th>\n",
       "      <th>ImageId</th>\n",
       "      <th>Label</th>\n",
       "    </tr>\n",
       "  </thead>\n",
       "  <tbody>\n",
       "    <tr>\n",
       "      <th>0</th>\n",
       "      <td>1</td>\n",
       "      <td>0</td>\n",
       "    </tr>\n",
       "    <tr>\n",
       "      <th>1</th>\n",
       "      <td>2</td>\n",
       "      <td>0</td>\n",
       "    </tr>\n",
       "    <tr>\n",
       "      <th>2</th>\n",
       "      <td>3</td>\n",
       "      <td>0</td>\n",
       "    </tr>\n",
       "    <tr>\n",
       "      <th>3</th>\n",
       "      <td>4</td>\n",
       "      <td>0</td>\n",
       "    </tr>\n",
       "    <tr>\n",
       "      <th>4</th>\n",
       "      <td>5</td>\n",
       "      <td>0</td>\n",
       "    </tr>\n",
       "    <tr>\n",
       "      <th>5</th>\n",
       "      <td>6</td>\n",
       "      <td>0</td>\n",
       "    </tr>\n",
       "    <tr>\n",
       "      <th>6</th>\n",
       "      <td>7</td>\n",
       "      <td>0</td>\n",
       "    </tr>\n",
       "    <tr>\n",
       "      <th>7</th>\n",
       "      <td>8</td>\n",
       "      <td>0</td>\n",
       "    </tr>\n",
       "    <tr>\n",
       "      <th>8</th>\n",
       "      <td>9</td>\n",
       "      <td>0</td>\n",
       "    </tr>\n",
       "    <tr>\n",
       "      <th>9</th>\n",
       "      <td>10</td>\n",
       "      <td>0</td>\n",
       "    </tr>\n",
       "  </tbody>\n",
       "</table>\n",
       "</div>"
      ],
      "text/plain": [
       "   ImageId  Label\n",
       "0        1      0\n",
       "1        2      0\n",
       "2        3      0\n",
       "3        4      0\n",
       "4        5      0\n",
       "5        6      0\n",
       "6        7      0\n",
       "7        8      0\n",
       "8        9      0\n",
       "9       10      0"
      ]
     },
     "execution_count": 22,
     "metadata": {},
     "output_type": "execute_result"
    }
   ],
   "source": [
    "submission_sample_df.head(10)"
   ]
  },
  {
   "cell_type": "code",
   "execution_count": 23,
   "id": "8e71f173",
   "metadata": {
    "execution": {
     "iopub.execute_input": "2023-07-27T22:31:59.695450Z",
     "iopub.status.busy": "2023-07-27T22:31:59.694689Z",
     "iopub.status.idle": "2023-07-27T22:32:06.010902Z",
     "shell.execute_reply": "2023-07-27T22:32:06.010186Z"
    },
    "papermill": {
     "duration": 6.503932,
     "end_time": "2023-07-27T22:32:06.013091",
     "exception": false,
     "start_time": "2023-07-27T22:31:59.509159",
     "status": "completed"
    },
    "tags": []
   },
   "outputs": [
    {
     "name": "stdout",
     "output_type": "stream",
     "text": [
      "875/875 [==============================] - 6s 7ms/step\n"
     ]
    }
   ],
   "source": [
    "my_results = model.predict(X_test)\n",
    "my_results = np.argmax(my_results, axis=1)\n",
    "labels = pd.Series(my_results, name='Label')\n",
    "imageIds = pd.Series(range(1,28001), name='ImageId')"
   ]
  },
  {
   "cell_type": "code",
   "execution_count": 24,
   "id": "4c565ed2",
   "metadata": {
    "execution": {
     "iopub.execute_input": "2023-07-27T22:32:06.395771Z",
     "iopub.status.busy": "2023-07-27T22:32:06.394384Z",
     "iopub.status.idle": "2023-07-27T22:32:06.407706Z",
     "shell.execute_reply": "2023-07-27T22:32:06.406162Z"
    },
    "papermill": {
     "duration": 0.2089,
     "end_time": "2023-07-27T22:32:06.410286",
     "exception": false,
     "start_time": "2023-07-27T22:32:06.201386",
     "status": "completed"
    },
    "tags": []
   },
   "outputs": [
    {
     "data": {
      "text/html": [
       "<div>\n",
       "<style scoped>\n",
       "    .dataframe tbody tr th:only-of-type {\n",
       "        vertical-align: middle;\n",
       "    }\n",
       "\n",
       "    .dataframe tbody tr th {\n",
       "        vertical-align: top;\n",
       "    }\n",
       "\n",
       "    .dataframe thead th {\n",
       "        text-align: right;\n",
       "    }\n",
       "</style>\n",
       "<table border=\"1\" class=\"dataframe\">\n",
       "  <thead>\n",
       "    <tr style=\"text-align: right;\">\n",
       "      <th></th>\n",
       "      <th>ImageId</th>\n",
       "      <th>Label</th>\n",
       "    </tr>\n",
       "  </thead>\n",
       "  <tbody>\n",
       "    <tr>\n",
       "      <th>0</th>\n",
       "      <td>1</td>\n",
       "      <td>2</td>\n",
       "    </tr>\n",
       "    <tr>\n",
       "      <th>1</th>\n",
       "      <td>2</td>\n",
       "      <td>0</td>\n",
       "    </tr>\n",
       "    <tr>\n",
       "      <th>2</th>\n",
       "      <td>3</td>\n",
       "      <td>9</td>\n",
       "    </tr>\n",
       "    <tr>\n",
       "      <th>3</th>\n",
       "      <td>4</td>\n",
       "      <td>0</td>\n",
       "    </tr>\n",
       "    <tr>\n",
       "      <th>4</th>\n",
       "      <td>5</td>\n",
       "      <td>3</td>\n",
       "    </tr>\n",
       "    <tr>\n",
       "      <th>5</th>\n",
       "      <td>6</td>\n",
       "      <td>7</td>\n",
       "    </tr>\n",
       "    <tr>\n",
       "      <th>6</th>\n",
       "      <td>7</td>\n",
       "      <td>0</td>\n",
       "    </tr>\n",
       "    <tr>\n",
       "      <th>7</th>\n",
       "      <td>8</td>\n",
       "      <td>3</td>\n",
       "    </tr>\n",
       "    <tr>\n",
       "      <th>8</th>\n",
       "      <td>9</td>\n",
       "      <td>0</td>\n",
       "    </tr>\n",
       "    <tr>\n",
       "      <th>9</th>\n",
       "      <td>10</td>\n",
       "      <td>3</td>\n",
       "    </tr>\n",
       "  </tbody>\n",
       "</table>\n",
       "</div>"
      ],
      "text/plain": [
       "   ImageId  Label\n",
       "0        1      2\n",
       "1        2      0\n",
       "2        3      9\n",
       "3        4      0\n",
       "4        5      3\n",
       "5        6      7\n",
       "6        7      0\n",
       "7        8      3\n",
       "8        9      0\n",
       "9       10      3"
      ]
     },
     "execution_count": 24,
     "metadata": {},
     "output_type": "execute_result"
    }
   ],
   "source": [
    "my_submission = pd.concat([imageIds, labels], axis=1)\n",
    "my_submission.head(10)"
   ]
  },
  {
   "cell_type": "code",
   "execution_count": 25,
   "id": "df32a408",
   "metadata": {
    "execution": {
     "iopub.execute_input": "2023-07-27T22:32:06.785389Z",
     "iopub.status.busy": "2023-07-27T22:32:06.784475Z",
     "iopub.status.idle": "2023-07-27T22:32:06.818605Z",
     "shell.execute_reply": "2023-07-27T22:32:06.817568Z"
    },
    "papermill": {
     "duration": 0.223597,
     "end_time": "2023-07-27T22:32:06.820798",
     "exception": false,
     "start_time": "2023-07-27T22:32:06.597201",
     "status": "completed"
    },
    "tags": []
   },
   "outputs": [],
   "source": [
    "# Finaly, Submit my submission\n",
    "my_submission.to_csv(\"digit_recognition_neural_network.csv\",index=False)"
   ]
  }
 ],
 "metadata": {
  "kernelspec": {
   "display_name": "Python 3 (ipykernel)",
   "language": "python",
   "name": "python3"
  },
  "language_info": {
   "codemirror_mode": {
    "name": "ipython",
    "version": 3
   },
   "file_extension": ".py",
   "mimetype": "text/x-python",
   "name": "python",
   "nbconvert_exporter": "python",
   "pygments_lexer": "ipython3",
   "version": "3.10.2"
  },
  "papermill": {
   "default_parameters": {},
   "duration": 318.586666,
   "end_time": "2023-07-27T22:32:09.613157",
   "environment_variables": {},
   "exception": null,
   "input_path": "__notebook__.ipynb",
   "output_path": "__notebook__.ipynb",
   "parameters": {},
   "start_time": "2023-07-27T22:26:51.026491",
   "version": "2.4.0"
  }
 },
 "nbformat": 4,
 "nbformat_minor": 5
}
