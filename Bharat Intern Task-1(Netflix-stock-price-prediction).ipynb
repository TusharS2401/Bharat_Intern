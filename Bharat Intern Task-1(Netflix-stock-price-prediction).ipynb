{
 "cells": [
  {
   "cell_type": "markdown",
   "id": "47e8410b",
   "metadata": {
    "papermill": {
     "duration": 0.009779,
     "end_time": "2023-07-07T16:58:41.602934",
     "exception": false,
     "start_time": "2023-07-07T16:58:41.593155",
     "status": "completed"
    },
    "tags": []
   },
   "source": [
    "The main goal of this project is to predict the stock prices of Netflix using LSTM and RNN models using past values as features."
   ]
  },
  {
   "cell_type": "code",
   "execution_count": 2,
   "id": "f9ea04a6",
   "metadata": {
    "execution": {
     "iopub.execute_input": "2023-07-07T16:58:41.625097Z",
     "iopub.status.busy": "2023-07-07T16:58:41.624514Z",
     "iopub.status.idle": "2023-07-07T16:58:41.647589Z",
     "shell.execute_reply": "2023-07-07T16:58:41.646507Z"
    },
    "papermill": {
     "duration": 0.036787,
     "end_time": "2023-07-07T16:58:41.649862",
     "exception": false,
     "start_time": "2023-07-07T16:58:41.613075",
     "status": "completed"
    },
    "tags": []
   },
   "outputs": [],
   "source": [
    "df = pd.read_csv('NFLX.csv')"
   ]
  },
  {
   "cell_type": "markdown",
   "id": "bc8bea0b",
   "metadata": {
    "papermill": {
     "duration": 0.00996,
     "end_time": "2023-07-07T16:58:41.670250",
     "exception": false,
     "start_time": "2023-07-07T16:58:41.660290",
     "status": "completed"
    },
    "tags": []
   },
   "source": [
    "# EDA"
   ]
  },
  {
   "cell_type": "code",
   "execution_count": 3,
   "id": "2b84bcaa",
   "metadata": {
    "execution": {
     "iopub.execute_input": "2023-07-07T16:58:41.692902Z",
     "iopub.status.busy": "2023-07-07T16:58:41.691756Z",
     "iopub.status.idle": "2023-07-07T16:58:41.725612Z",
     "shell.execute_reply": "2023-07-07T16:58:41.723880Z"
    },
    "papermill": {
     "duration": 0.047972,
     "end_time": "2023-07-07T16:58:41.728355",
     "exception": false,
     "start_time": "2023-07-07T16:58:41.680383",
     "status": "completed"
    },
    "tags": []
   },
   "outputs": [
    {
     "data": {
      "text/html": [
       "<div>\n",
       "<style scoped>\n",
       "    .dataframe tbody tr th:only-of-type {\n",
       "        vertical-align: middle;\n",
       "    }\n",
       "\n",
       "    .dataframe tbody tr th {\n",
       "        vertical-align: top;\n",
       "    }\n",
       "\n",
       "    .dataframe thead th {\n",
       "        text-align: right;\n",
       "    }\n",
       "</style>\n",
       "<table border=\"1\" class=\"dataframe\">\n",
       "  <thead>\n",
       "    <tr style=\"text-align: right;\">\n",
       "      <th></th>\n",
       "      <th>Date</th>\n",
       "      <th>Open</th>\n",
       "      <th>High</th>\n",
       "      <th>Low</th>\n",
       "      <th>Close</th>\n",
       "      <th>Adj Close</th>\n",
       "      <th>Volume</th>\n",
       "    </tr>\n",
       "  </thead>\n",
       "  <tbody>\n",
       "    <tr>\n",
       "      <th>0</th>\n",
       "      <td>2018-02-05</td>\n",
       "      <td>262.000000</td>\n",
       "      <td>267.899994</td>\n",
       "      <td>250.029999</td>\n",
       "      <td>254.259995</td>\n",
       "      <td>254.259995</td>\n",
       "      <td>11896100</td>\n",
       "    </tr>\n",
       "    <tr>\n",
       "      <th>1</th>\n",
       "      <td>2018-02-06</td>\n",
       "      <td>247.699997</td>\n",
       "      <td>266.700012</td>\n",
       "      <td>245.000000</td>\n",
       "      <td>265.720001</td>\n",
       "      <td>265.720001</td>\n",
       "      <td>12595800</td>\n",
       "    </tr>\n",
       "    <tr>\n",
       "      <th>2</th>\n",
       "      <td>2018-02-07</td>\n",
       "      <td>266.579987</td>\n",
       "      <td>272.450012</td>\n",
       "      <td>264.329987</td>\n",
       "      <td>264.559998</td>\n",
       "      <td>264.559998</td>\n",
       "      <td>8981500</td>\n",
       "    </tr>\n",
       "    <tr>\n",
       "      <th>3</th>\n",
       "      <td>2018-02-08</td>\n",
       "      <td>267.079987</td>\n",
       "      <td>267.619995</td>\n",
       "      <td>250.000000</td>\n",
       "      <td>250.100006</td>\n",
       "      <td>250.100006</td>\n",
       "      <td>9306700</td>\n",
       "    </tr>\n",
       "    <tr>\n",
       "      <th>4</th>\n",
       "      <td>2018-02-09</td>\n",
       "      <td>253.850006</td>\n",
       "      <td>255.800003</td>\n",
       "      <td>236.110001</td>\n",
       "      <td>249.470001</td>\n",
       "      <td>249.470001</td>\n",
       "      <td>16906900</td>\n",
       "    </tr>\n",
       "  </tbody>\n",
       "</table>\n",
       "</div>"
      ],
      "text/plain": [
       "         Date        Open        High         Low       Close   Adj Close  \\\n",
       "0  2018-02-05  262.000000  267.899994  250.029999  254.259995  254.259995   \n",
       "1  2018-02-06  247.699997  266.700012  245.000000  265.720001  265.720001   \n",
       "2  2018-02-07  266.579987  272.450012  264.329987  264.559998  264.559998   \n",
       "3  2018-02-08  267.079987  267.619995  250.000000  250.100006  250.100006   \n",
       "4  2018-02-09  253.850006  255.800003  236.110001  249.470001  249.470001   \n",
       "\n",
       "     Volume  \n",
       "0  11896100  \n",
       "1  12595800  \n",
       "2   8981500  \n",
       "3   9306700  \n",
       "4  16906900  "
      ]
     },
     "execution_count": 3,
     "metadata": {},
     "output_type": "execute_result"
    }
   ],
   "source": [
    "df.head()"
   ]
  },
  {
   "cell_type": "code",
   "execution_count": 4,
   "id": "4a5e6d05",
   "metadata": {
    "execution": {
     "iopub.execute_input": "2023-07-07T16:58:41.752625Z",
     "iopub.status.busy": "2023-07-07T16:58:41.752238Z",
     "iopub.status.idle": "2023-07-07T16:58:41.783552Z",
     "shell.execute_reply": "2023-07-07T16:58:41.782283Z"
    },
    "papermill": {
     "duration": 0.046628,
     "end_time": "2023-07-07T16:58:41.786233",
     "exception": false,
     "start_time": "2023-07-07T16:58:41.739605",
     "status": "completed"
    },
    "tags": []
   },
   "outputs": [
    {
     "data": {
      "text/html": [
       "<div>\n",
       "<style scoped>\n",
       "    .dataframe tbody tr th:only-of-type {\n",
       "        vertical-align: middle;\n",
       "    }\n",
       "\n",
       "    .dataframe tbody tr th {\n",
       "        vertical-align: top;\n",
       "    }\n",
       "\n",
       "    .dataframe thead th {\n",
       "        text-align: right;\n",
       "    }\n",
       "</style>\n",
       "<table border=\"1\" class=\"dataframe\">\n",
       "  <thead>\n",
       "    <tr style=\"text-align: right;\">\n",
       "      <th></th>\n",
       "      <th>Open</th>\n",
       "      <th>High</th>\n",
       "      <th>Low</th>\n",
       "      <th>Close</th>\n",
       "      <th>Adj Close</th>\n",
       "      <th>Volume</th>\n",
       "    </tr>\n",
       "  </thead>\n",
       "  <tbody>\n",
       "    <tr>\n",
       "      <th>count</th>\n",
       "      <td>1009.000000</td>\n",
       "      <td>1009.000000</td>\n",
       "      <td>1009.000000</td>\n",
       "      <td>1009.000000</td>\n",
       "      <td>1009.000000</td>\n",
       "      <td>1.009000e+03</td>\n",
       "    </tr>\n",
       "    <tr>\n",
       "      <th>mean</th>\n",
       "      <td>419.059673</td>\n",
       "      <td>425.320703</td>\n",
       "      <td>412.374044</td>\n",
       "      <td>419.000733</td>\n",
       "      <td>419.000733</td>\n",
       "      <td>7.570685e+06</td>\n",
       "    </tr>\n",
       "    <tr>\n",
       "      <th>std</th>\n",
       "      <td>108.537532</td>\n",
       "      <td>109.262960</td>\n",
       "      <td>107.555867</td>\n",
       "      <td>108.289999</td>\n",
       "      <td>108.289999</td>\n",
       "      <td>5.465535e+06</td>\n",
       "    </tr>\n",
       "    <tr>\n",
       "      <th>min</th>\n",
       "      <td>233.919998</td>\n",
       "      <td>250.649994</td>\n",
       "      <td>231.229996</td>\n",
       "      <td>233.880005</td>\n",
       "      <td>233.880005</td>\n",
       "      <td>1.144000e+06</td>\n",
       "    </tr>\n",
       "    <tr>\n",
       "      <th>25%</th>\n",
       "      <td>331.489990</td>\n",
       "      <td>336.299988</td>\n",
       "      <td>326.000000</td>\n",
       "      <td>331.619995</td>\n",
       "      <td>331.619995</td>\n",
       "      <td>4.091900e+06</td>\n",
       "    </tr>\n",
       "    <tr>\n",
       "      <th>50%</th>\n",
       "      <td>377.769989</td>\n",
       "      <td>383.010010</td>\n",
       "      <td>370.880005</td>\n",
       "      <td>378.670013</td>\n",
       "      <td>378.670013</td>\n",
       "      <td>5.934500e+06</td>\n",
       "    </tr>\n",
       "    <tr>\n",
       "      <th>75%</th>\n",
       "      <td>509.130005</td>\n",
       "      <td>515.630005</td>\n",
       "      <td>502.529999</td>\n",
       "      <td>509.079987</td>\n",
       "      <td>509.079987</td>\n",
       "      <td>9.322400e+06</td>\n",
       "    </tr>\n",
       "    <tr>\n",
       "      <th>max</th>\n",
       "      <td>692.349976</td>\n",
       "      <td>700.989990</td>\n",
       "      <td>686.090027</td>\n",
       "      <td>691.690002</td>\n",
       "      <td>691.690002</td>\n",
       "      <td>5.890430e+07</td>\n",
       "    </tr>\n",
       "  </tbody>\n",
       "</table>\n",
       "</div>"
      ],
      "text/plain": [
       "              Open         High          Low        Close    Adj Close  \\\n",
       "count  1009.000000  1009.000000  1009.000000  1009.000000  1009.000000   \n",
       "mean    419.059673   425.320703   412.374044   419.000733   419.000733   \n",
       "std     108.537532   109.262960   107.555867   108.289999   108.289999   \n",
       "min     233.919998   250.649994   231.229996   233.880005   233.880005   \n",
       "25%     331.489990   336.299988   326.000000   331.619995   331.619995   \n",
       "50%     377.769989   383.010010   370.880005   378.670013   378.670013   \n",
       "75%     509.130005   515.630005   502.529999   509.079987   509.079987   \n",
       "max     692.349976   700.989990   686.090027   691.690002   691.690002   \n",
       "\n",
       "             Volume  \n",
       "count  1.009000e+03  \n",
       "mean   7.570685e+06  \n",
       "std    5.465535e+06  \n",
       "min    1.144000e+06  \n",
       "25%    4.091900e+06  \n",
       "50%    5.934500e+06  \n",
       "75%    9.322400e+06  \n",
       "max    5.890430e+07  "
      ]
     },
     "execution_count": 4,
     "metadata": {},
     "output_type": "execute_result"
    }
   ],
   "source": [
    "df.describe()"
   ]
  },
  {
   "cell_type": "markdown",
   "id": "92fba4ff",
   "metadata": {
    "papermill": {
     "duration": 0.010212,
     "end_time": "2023-07-07T16:58:41.807467",
     "exception": false,
     "start_time": "2023-07-07T16:58:41.797255",
     "status": "completed"
    },
    "tags": []
   },
   "source": [
    "# Checking Missing Dates in the time series"
   ]
  },
  {
   "cell_type": "code",
   "execution_count": 5,
   "id": "95feee14",
   "metadata": {
    "execution": {
     "iopub.execute_input": "2023-07-07T16:58:41.830613Z",
     "iopub.status.busy": "2023-07-07T16:58:41.830254Z",
     "iopub.status.idle": "2023-07-07T16:58:41.838747Z",
     "shell.execute_reply": "2023-07-07T16:58:41.837285Z"
    },
    "papermill": {
     "duration": 0.022856,
     "end_time": "2023-07-07T16:58:41.841113",
     "exception": false,
     "start_time": "2023-07-07T16:58:41.818257",
     "status": "completed"
    },
    "tags": []
   },
   "outputs": [
    {
     "name": "stdout",
     "output_type": "stream",
     "text": [
      "Difference is -1460 days\n"
     ]
    }
   ],
   "source": [
    "from datetime import datetime\n",
    "a =df['Date'].min()\n",
    "b =df['Date'].max()\n",
    "d1 = datetime.strptime(b, \"%Y-%m-%d\")\n",
    "d2 = datetime.strptime(a, \"%Y-%m-%d\")\n",
    "\n",
    "# difference between dates in timedelta\n",
    "delta = d2 - d1\n",
    "print(f'Difference is {delta.days} days')\n"
   ]
  },
  {
   "cell_type": "code",
   "execution_count": 6,
   "id": "e632bd3c",
   "metadata": {
    "execution": {
     "iopub.execute_input": "2023-07-07T16:58:41.864215Z",
     "iopub.status.busy": "2023-07-07T16:58:41.863852Z",
     "iopub.status.idle": "2023-07-07T16:58:41.875183Z",
     "shell.execute_reply": "2023-07-07T16:58:41.874105Z"
    },
    "papermill": {
     "duration": 0.025652,
     "end_time": "2023-07-07T16:58:41.877341",
     "exception": false,
     "start_time": "2023-07-07T16:58:41.851689",
     "status": "completed"
    },
    "tags": []
   },
   "outputs": [
    {
     "data": {
      "text/plain": [
       "1009"
      ]
     },
     "execution_count": 6,
     "metadata": {},
     "output_type": "execute_result"
    }
   ],
   "source": [
    "df['Date'].nunique()"
   ]
  },
  {
   "cell_type": "code",
   "execution_count": 7,
   "id": "044a464b",
   "metadata": {
    "execution": {
     "iopub.execute_input": "2023-07-07T16:58:41.900844Z",
     "iopub.status.busy": "2023-07-07T16:58:41.900508Z",
     "iopub.status.idle": "2023-07-07T16:58:41.916623Z",
     "shell.execute_reply": "2023-07-07T16:58:41.915732Z"
    },
    "papermill": {
     "duration": 0.030568,
     "end_time": "2023-07-07T16:58:41.919111",
     "exception": false,
     "start_time": "2023-07-07T16:58:41.888543",
     "status": "completed"
    },
    "tags": []
   },
   "outputs": [
    {
     "data": {
      "text/html": [
       "<div>\n",
       "<style scoped>\n",
       "    .dataframe tbody tr th:only-of-type {\n",
       "        vertical-align: middle;\n",
       "    }\n",
       "\n",
       "    .dataframe tbody tr th {\n",
       "        vertical-align: top;\n",
       "    }\n",
       "\n",
       "    .dataframe thead th {\n",
       "        text-align: right;\n",
       "    }\n",
       "</style>\n",
       "<table border=\"1\" class=\"dataframe\">\n",
       "  <thead>\n",
       "    <tr style=\"text-align: right;\">\n",
       "      <th></th>\n",
       "      <th>Open</th>\n",
       "      <th>High</th>\n",
       "      <th>Low</th>\n",
       "      <th>Close</th>\n",
       "      <th>Adj Close</th>\n",
       "      <th>Volume</th>\n",
       "    </tr>\n",
       "    <tr>\n",
       "      <th>Date</th>\n",
       "      <th></th>\n",
       "      <th></th>\n",
       "      <th></th>\n",
       "      <th></th>\n",
       "      <th></th>\n",
       "      <th></th>\n",
       "    </tr>\n",
       "  </thead>\n",
       "  <tbody>\n",
       "    <tr>\n",
       "      <th>2018-02-05</th>\n",
       "      <td>262.000000</td>\n",
       "      <td>267.899994</td>\n",
       "      <td>250.029999</td>\n",
       "      <td>254.259995</td>\n",
       "      <td>254.259995</td>\n",
       "      <td>11896100</td>\n",
       "    </tr>\n",
       "    <tr>\n",
       "      <th>2018-02-06</th>\n",
       "      <td>247.699997</td>\n",
       "      <td>266.700012</td>\n",
       "      <td>245.000000</td>\n",
       "      <td>265.720001</td>\n",
       "      <td>265.720001</td>\n",
       "      <td>12595800</td>\n",
       "    </tr>\n",
       "    <tr>\n",
       "      <th>2018-02-07</th>\n",
       "      <td>266.579987</td>\n",
       "      <td>272.450012</td>\n",
       "      <td>264.329987</td>\n",
       "      <td>264.559998</td>\n",
       "      <td>264.559998</td>\n",
       "      <td>8981500</td>\n",
       "    </tr>\n",
       "    <tr>\n",
       "      <th>2018-02-08</th>\n",
       "      <td>267.079987</td>\n",
       "      <td>267.619995</td>\n",
       "      <td>250.000000</td>\n",
       "      <td>250.100006</td>\n",
       "      <td>250.100006</td>\n",
       "      <td>9306700</td>\n",
       "    </tr>\n",
       "    <tr>\n",
       "      <th>2018-02-09</th>\n",
       "      <td>253.850006</td>\n",
       "      <td>255.800003</td>\n",
       "      <td>236.110001</td>\n",
       "      <td>249.470001</td>\n",
       "      <td>249.470001</td>\n",
       "      <td>16906900</td>\n",
       "    </tr>\n",
       "  </tbody>\n",
       "</table>\n",
       "</div>"
      ],
      "text/plain": [
       "                  Open        High         Low       Close   Adj Close  \\\n",
       "Date                                                                     \n",
       "2018-02-05  262.000000  267.899994  250.029999  254.259995  254.259995   \n",
       "2018-02-06  247.699997  266.700012  245.000000  265.720001  265.720001   \n",
       "2018-02-07  266.579987  272.450012  264.329987  264.559998  264.559998   \n",
       "2018-02-08  267.079987  267.619995  250.000000  250.100006  250.100006   \n",
       "2018-02-09  253.850006  255.800003  236.110001  249.470001  249.470001   \n",
       "\n",
       "              Volume  \n",
       "Date                  \n",
       "2018-02-05  11896100  \n",
       "2018-02-06  12595800  \n",
       "2018-02-07   8981500  \n",
       "2018-02-08   9306700  \n",
       "2018-02-09  16906900  "
      ]
     },
     "execution_count": 7,
     "metadata": {},
     "output_type": "execute_result"
    }
   ],
   "source": [
    "df['Date'] =  pd.to_datetime(df['Date'], format='%Y-%m-%d')\n",
    "df.set_index('Date', inplace=True)\n",
    "df.head()"
   ]
  },
  {
   "cell_type": "markdown",
   "id": "16f7cc89",
   "metadata": {
    "papermill": {
     "duration": 0.010237,
     "end_time": "2023-07-07T16:58:41.940574",
     "exception": false,
     "start_time": "2023-07-07T16:58:41.930337",
     "status": "completed"
    },
    "tags": []
   },
   "source": [
    "# Adding Missing Dates in the time series "
   ]
  },
  {
   "cell_type": "code",
   "execution_count": 8,
   "id": "139ae2df",
   "metadata": {
    "execution": {
     "iopub.execute_input": "2023-07-07T16:58:41.962558Z",
     "iopub.status.busy": "2023-07-07T16:58:41.962185Z",
     "iopub.status.idle": "2023-07-07T16:58:41.998931Z",
     "shell.execute_reply": "2023-07-07T16:58:41.998074Z"
    },
    "papermill": {
     "duration": 0.050243,
     "end_time": "2023-07-07T16:58:42.001076",
     "exception": false,
     "start_time": "2023-07-07T16:58:41.950833",
     "status": "completed"
    },
    "tags": []
   },
   "outputs": [
    {
     "data": {
      "text/plain": [
       "1461"
      ]
     },
     "execution_count": 8,
     "metadata": {},
     "output_type": "execute_result"
    }
   ],
   "source": [
    "df = df.resample('D').ffill().reset_index()\n",
    "df['Date'].nunique()"
   ]
  },
  {
   "cell_type": "code",
   "execution_count": 9,
   "id": "8c3a4238",
   "metadata": {
    "execution": {
     "iopub.execute_input": "2023-07-07T16:58:42.024679Z",
     "iopub.status.busy": "2023-07-07T16:58:42.024326Z",
     "iopub.status.idle": "2023-07-07T16:58:42.037037Z",
     "shell.execute_reply": "2023-07-07T16:58:42.036097Z"
    },
    "papermill": {
     "duration": 0.027616,
     "end_time": "2023-07-07T16:58:42.039758",
     "exception": false,
     "start_time": "2023-07-07T16:58:42.012142",
     "status": "completed"
    },
    "tags": []
   },
   "outputs": [
    {
     "data": {
      "text/html": [
       "<div>\n",
       "<style scoped>\n",
       "    .dataframe tbody tr th:only-of-type {\n",
       "        vertical-align: middle;\n",
       "    }\n",
       "\n",
       "    .dataframe tbody tr th {\n",
       "        vertical-align: top;\n",
       "    }\n",
       "\n",
       "    .dataframe thead th {\n",
       "        text-align: right;\n",
       "    }\n",
       "</style>\n",
       "<table border=\"1\" class=\"dataframe\">\n",
       "  <thead>\n",
       "    <tr style=\"text-align: right;\">\n",
       "      <th></th>\n",
       "      <th>Close</th>\n",
       "    </tr>\n",
       "  </thead>\n",
       "  <tbody>\n",
       "    <tr>\n",
       "      <th>0</th>\n",
       "      <td>254.259995</td>\n",
       "    </tr>\n",
       "    <tr>\n",
       "      <th>1</th>\n",
       "      <td>265.720001</td>\n",
       "    </tr>\n",
       "    <tr>\n",
       "      <th>2</th>\n",
       "      <td>264.559998</td>\n",
       "    </tr>\n",
       "    <tr>\n",
       "      <th>3</th>\n",
       "      <td>250.100006</td>\n",
       "    </tr>\n",
       "    <tr>\n",
       "      <th>4</th>\n",
       "      <td>249.470001</td>\n",
       "    </tr>\n",
       "    <tr>\n",
       "      <th>...</th>\n",
       "      <td>...</td>\n",
       "    </tr>\n",
       "    <tr>\n",
       "      <th>1456</th>\n",
       "      <td>427.140015</td>\n",
       "    </tr>\n",
       "    <tr>\n",
       "      <th>1457</th>\n",
       "      <td>457.130005</td>\n",
       "    </tr>\n",
       "    <tr>\n",
       "      <th>1458</th>\n",
       "      <td>429.480011</td>\n",
       "    </tr>\n",
       "    <tr>\n",
       "      <th>1459</th>\n",
       "      <td>405.600006</td>\n",
       "    </tr>\n",
       "    <tr>\n",
       "      <th>1460</th>\n",
       "      <td>410.170013</td>\n",
       "    </tr>\n",
       "  </tbody>\n",
       "</table>\n",
       "<p>1461 rows × 1 columns</p>\n",
       "</div>"
      ],
      "text/plain": [
       "           Close\n",
       "0     254.259995\n",
       "1     265.720001\n",
       "2     264.559998\n",
       "3     250.100006\n",
       "4     249.470001\n",
       "...          ...\n",
       "1456  427.140015\n",
       "1457  457.130005\n",
       "1458  429.480011\n",
       "1459  405.600006\n",
       "1460  410.170013\n",
       "\n",
       "[1461 rows x 1 columns]"
      ]
     },
     "execution_count": 9,
     "metadata": {},
     "output_type": "execute_result"
    }
   ],
   "source": [
    "df1 = df[['Close']]\n",
    "df1"
   ]
  },
  {
   "cell_type": "markdown",
   "id": "3baf97da",
   "metadata": {
    "papermill": {
     "duration": 0.010949,
     "end_time": "2023-07-07T16:58:42.062319",
     "exception": false,
     "start_time": "2023-07-07T16:58:42.051370",
     "status": "completed"
    },
    "tags": []
   },
   "source": [
    "# Plotting time series"
   ]
  },
  {
   "cell_type": "code",
   "execution_count": 10,
   "id": "0b35b2bb",
   "metadata": {
    "execution": {
     "iopub.execute_input": "2023-07-07T16:58:42.085996Z",
     "iopub.status.busy": "2023-07-07T16:58:42.085588Z",
     "iopub.status.idle": "2023-07-07T16:58:42.298120Z",
     "shell.execute_reply": "2023-07-07T16:58:42.297437Z"
    },
    "papermill": {
     "duration": 0.226643,
     "end_time": "2023-07-07T16:58:42.300205",
     "exception": false,
     "start_time": "2023-07-07T16:58:42.073562",
     "status": "completed"
    },
    "tags": []
   },
   "outputs": [
    {
     "data": {
      "text/plain": [
       "[<matplotlib.lines.Line2D at 0x7c6a6b2f7ac0>]"
      ]
     },
     "execution_count": 10,
     "metadata": {},
     "output_type": "execute_result"
    },
    {
     "data": {
      "image/png": "[encoded data removed]",
      "text/plain": [
       "<Figure size 640x480 with 1 Axes>"
      ]
     },
     "metadata": {},
     "output_type": "display_data"
    }
   ],
   "source": [
    "import matplotlib.pyplot as plt\n",
    "plt.plot(df1)"
   ]
  },
  {
   "cell_type": "code",
   "execution_count": 11,
   "id": "b79fe7e9",
   "metadata": {
    "execution": {
     "iopub.execute_input": "2023-07-07T16:58:42.330845Z",
     "iopub.status.busy": "2023-07-07T16:58:42.330205Z",
     "iopub.status.idle": "2023-07-07T16:58:42.626346Z",
     "shell.execute_reply": "2023-07-07T16:58:42.625482Z"
    },
    "papermill": {
     "duration": 0.315023,
     "end_time": "2023-07-07T16:58:42.628703",
     "exception": false,
     "start_time": "2023-07-07T16:58:42.313680",
     "status": "completed"
    },
    "tags": []
   },
   "outputs": [
    {
     "data": {
      "text/plain": [
       "<Axes: ylabel='Frequency'>"
      ]
     },
     "execution_count": 11,
     "metadata": {},
     "output_type": "execute_result"
    },
    {
     "data": {
      "image/png": "[encoded data removed]",
      "text/plain": [
       "<Figure size 640x480 with 1 Axes>"
      ]
     },
     "metadata": {},
     "output_type": "display_data"
    }
   ],
   "source": [
    "df1.plot.hist(alpha=0.5)"
   ]
  },
  {
   "cell_type": "markdown",
   "id": "fb33aa1c",
   "metadata": {
    "papermill": {
     "duration": 0.012073,
     "end_time": "2023-07-07T16:58:42.658110",
     "exception": false,
     "start_time": "2023-07-07T16:58:42.646037",
     "status": "completed"
    },
    "tags": []
   },
   "source": [
    "# Plot PACF and ACF"
   ]
  },
  {
   "cell_type": "code",
   "execution_count": 12,
   "id": "b6b65d7e",
   "metadata": {
    "execution": {
     "iopub.execute_input": "2023-07-07T16:58:42.685881Z",
     "iopub.status.busy": "2023-07-07T16:58:42.685233Z",
     "iopub.status.idle": "2023-07-07T16:58:44.413216Z",
     "shell.execute_reply": "2023-07-07T16:58:44.411805Z"
    },
    "papermill": {
     "duration": 1.744757,
     "end_time": "2023-07-07T16:58:44.415327",
     "exception": false,
     "start_time": "2023-07-07T16:58:42.670570",
     "status": "completed"
    },
    "tags": []
   },
   "outputs": [
    {
     "name": "stderr",
     "output_type": "stream",
     "text": [
      "/opt/conda/lib/python3.10/site-packages/statsmodels/graphics/tsaplots.py:348: FutureWarning: The default method 'yw' can produce PACF values outside of the [-1,1] interval. After 0.13, the default will change tounadjusted Yule-Walker ('ywm'). You can use this method now by setting method='ywm'.\n",
      "  warnings.warn(\n"
     ]
    },
    {
     "data": {
      "image/png": "[encoded data removed]",
      "text/plain": [
       "<Figure size 640x480 with 1 Axes>"
      ]
     },
     "metadata": {},
     "output_type": "display_data"
    }
   ],
   "source": [
    "from statsmodels.graphics.tsaplots import plot_pacf\n",
    "plot_pacf(df1, lags = 40);"
   ]
  },
  {
   "cell_type": "markdown",
   "id": "503f0cac",
   "metadata": {
    "papermill": {
     "duration": 0.012041,
     "end_time": "2023-07-07T16:58:44.440276",
     "exception": false,
     "start_time": "2023-07-07T16:58:44.428235",
     "status": "completed"
    },
    "tags": []
   },
   "source": [
    " From PACF plot we can see there is strong autocorrelation for lag 1"
   ]
  },
  {
   "cell_type": "code",
   "execution_count": 13,
   "id": "17b0661b",
   "metadata": {
    "execution": {
     "iopub.execute_input": "2023-07-07T16:58:44.468972Z",
     "iopub.status.busy": "2023-07-07T16:58:44.468060Z",
     "iopub.status.idle": "2023-07-07T16:58:44.722059Z",
     "shell.execute_reply": "2023-07-07T16:58:44.721114Z"
    },
    "papermill": {
     "duration": 0.270595,
     "end_time": "2023-07-07T16:58:44.723875",
     "exception": false,
     "start_time": "2023-07-07T16:58:44.453280",
     "status": "completed"
    },
    "tags": []
   },
   "outputs": [
    {
     "data": {
      "image/png": "[encoded data removed]",
      "text/plain": [
       "<Figure size 640x480 with 1 Axes>"
      ]
     },
     "metadata": {},
     "output_type": "display_data"
    }
   ],
   "source": [
    "from statsmodels.graphics.tsaplots import plot_acf\n",
    "plot_acf(df1, lags = 40);"
   ]
  },
  {
   "cell_type": "markdown",
   "id": "b3f3ace9",
   "metadata": {
    "papermill": {
     "duration": 0.01239,
     "end_time": "2023-07-07T16:58:44.749031",
     "exception": false,
     "start_time": "2023-07-07T16:58:44.736641",
     "status": "completed"
    },
    "tags": []
   },
   "source": [
    "From ACF we can see that it requires fair bit of differncing as 1 value is dependent on other"
   ]
  },
  {
   "cell_type": "markdown",
   "id": "3edec2b6",
   "metadata": {
    "papermill": {
     "duration": 0.012246,
     "end_time": "2023-07-07T16:58:44.774355",
     "exception": false,
     "start_time": "2023-07-07T16:58:44.762109",
     "status": "completed"
    },
    "tags": []
   },
   "source": [
    "# Stationarity Test"
   ]
  },
  {
   "cell_type": "code",
   "execution_count": 14,
   "id": "72418178",
   "metadata": {
    "execution": {
     "iopub.execute_input": "2023-07-07T16:58:44.801698Z",
     "iopub.status.busy": "2023-07-07T16:58:44.801332Z",
     "iopub.status.idle": "2023-07-07T16:58:44.853554Z",
     "shell.execute_reply": "2023-07-07T16:58:44.852566Z"
    },
    "papermill": {
     "duration": 0.068161,
     "end_time": "2023-07-07T16:58:44.855425",
     "exception": false,
     "start_time": "2023-07-07T16:58:44.787264",
     "status": "completed"
    },
    "tags": []
   },
   "outputs": [
    {
     "name": "stdout",
     "output_type": "stream",
     "text": [
      "p-value: 0.431928\n"
     ]
    }
   ],
   "source": [
    "from statsmodels.tsa.stattools import adfuller\n",
    "a  = adfuller(df1.values, maxlag=None, regression='c', autolag='AIC', store=False, regresults=False)\n",
    "print('p-value: %f' % a[1])"
   ]
  },
  {
   "cell_type": "markdown",
   "id": "d1747644",
   "metadata": {
    "papermill": {
     "duration": 0.017221,
     "end_time": "2023-07-07T16:58:44.889263",
     "exception": false,
     "start_time": "2023-07-07T16:58:44.872042",
     "status": "completed"
    },
    "tags": []
   },
   "source": [
    "From adfull test we can clearly see from p-value that the above series is non-stationary"
   ]
  },
  {
   "cell_type": "markdown",
   "id": "f960bf1f",
   "metadata": {
    "papermill": {
     "duration": 0.016915,
     "end_time": "2023-07-07T16:58:44.923220",
     "exception": false,
     "start_time": "2023-07-07T16:58:44.906305",
     "status": "completed"
    },
    "tags": []
   },
   "source": [
    "From Above analysis we can clearly see that the data is non stationary and we have to clearly define trend and seasonal components"
   ]
  },
  {
   "cell_type": "markdown",
   "id": "c1df34b4",
   "metadata": {
    "papermill": {
     "duration": 0.016364,
     "end_time": "2023-07-07T16:58:44.957641",
     "exception": false,
     "start_time": "2023-07-07T16:58:44.941277",
     "status": "completed"
    },
    "tags": []
   },
   "source": [
    "# Scaling Data"
   ]
  },
  {
   "cell_type": "code",
   "execution_count": 15,
   "id": "f3041a6e",
   "metadata": {
    "execution": {
     "iopub.execute_input": "2023-07-07T16:58:44.986627Z",
     "iopub.status.busy": "2023-07-07T16:58:44.986263Z",
     "iopub.status.idle": "2023-07-07T16:58:45.149150Z",
     "shell.execute_reply": "2023-07-07T16:58:45.148278Z"
    },
    "papermill": {
     "duration": 0.178369,
     "end_time": "2023-07-07T16:58:45.150858",
     "exception": false,
     "start_time": "2023-07-07T16:58:44.972489",
     "status": "completed"
    },
    "tags": []
   },
   "outputs": [
    {
     "data": {
      "text/plain": [
       "(1461, 1)"
      ]
     },
     "execution_count": 15,
     "metadata": {},
     "output_type": "execute_result"
    }
   ],
   "source": [
    "from sklearn.preprocessing import MinMaxScaler\n",
    "scaler = MinMaxScaler(feature_range=(0,1))\n",
    "df1 = scaler.fit_transform(np.array(df1).reshape(-1,1))\n",
    "df1.shape"
   ]
  },
  {
   "cell_type": "markdown",
   "id": "6e9ed366",
   "metadata": {
    "papermill": {
     "duration": 0.013738,
     "end_time": "2023-07-07T16:58:45.177367",
     "exception": false,
     "start_time": "2023-07-07T16:58:45.163629",
     "status": "completed"
    },
    "tags": []
   },
   "source": [
    "#  Split Data into train and test data"
   ]
  },
  {
   "cell_type": "code",
   "execution_count": 16,
   "id": "8178cbbb",
   "metadata": {
    "execution": {
     "iopub.execute_input": "2023-07-07T16:58:45.205563Z",
     "iopub.status.busy": "2023-07-07T16:58:45.204728Z",
     "iopub.status.idle": "2023-07-07T16:58:45.209823Z",
     "shell.execute_reply": "2023-07-07T16:58:45.208988Z"
    },
    "papermill": {
     "duration": 0.021082,
     "end_time": "2023-07-07T16:58:45.211556",
     "exception": false,
     "start_time": "2023-07-07T16:58:45.190474",
     "status": "completed"
    },
    "tags": []
   },
   "outputs": [],
   "source": [
    "training_size = int(len(df1)*0.7)\n",
    "test_size = len(df1)-training_size\n",
    "train_data,test_data = df1[0:training_size,:],df1[training_size:len(df1),:1]"
   ]
  },
  {
   "cell_type": "code",
   "execution_count": 17,
   "id": "0d04de3a",
   "metadata": {
    "execution": {
     "iopub.execute_input": "2023-07-07T16:58:45.239366Z",
     "iopub.status.busy": "2023-07-07T16:58:45.238909Z",
     "iopub.status.idle": "2023-07-07T16:58:45.244823Z",
     "shell.execute_reply": "2023-07-07T16:58:45.243687Z"
    },
    "papermill": {
     "duration": 0.022038,
     "end_time": "2023-07-07T16:58:45.246498",
     "exception": false,
     "start_time": "2023-07-07T16:58:45.224460",
     "status": "completed"
    },
    "tags": []
   },
   "outputs": [],
   "source": [
    "def create_dataset(dataset, time_step=1):\n",
    "\tdataX, dataY = [], []\n",
    "\tfor i in range(len(dataset)-time_step-1):\n",
    "\t\ta = dataset[i:(i+time_step), 0]   ###i=0, 0,1,2,3-----99   100 \n",
    "\t\tdataX.append(a)\n",
    "\t\tdataY.append(dataset[i + time_step, 0])\n",
    "\treturn np.array(dataX), np.array(dataY)"
   ]
  },
  {
   "cell_type": "code",
   "execution_count": 18,
   "id": "0b2e604d",
   "metadata": {
    "execution": {
     "iopub.execute_input": "2023-07-07T16:58:45.274702Z",
     "iopub.status.busy": "2023-07-07T16:58:45.274092Z",
     "iopub.status.idle": "2023-07-07T16:58:45.279847Z",
     "shell.execute_reply": "2023-07-07T16:58:45.279288Z"
    },
    "papermill": {
     "duration": 0.022373,
     "end_time": "2023-07-07T16:58:45.281823",
     "exception": false,
     "start_time": "2023-07-07T16:58:45.259450",
     "status": "completed"
    },
    "tags": []
   },
   "outputs": [],
   "source": [
    "time_step = 100\n",
    "X_train, y_train = create_dataset(train_data, time_step)\n",
    "X_test, y_test = create_dataset(test_data, time_step)"
   ]
  },
  {
   "cell_type": "code",
   "execution_count": 19,
   "id": "d64c2305",
   "metadata": {
    "execution": {
     "iopub.execute_input": "2023-07-07T16:58:45.310794Z",
     "iopub.status.busy": "2023-07-07T16:58:45.309870Z",
     "iopub.status.idle": "2023-07-07T16:58:45.317805Z",
     "shell.execute_reply": "2023-07-07T16:58:45.316330Z"
    },
    "papermill": {
     "duration": 0.025085,
     "end_time": "2023-07-07T16:58:45.320013",
     "exception": false,
     "start_time": "2023-07-07T16:58:45.294928",
     "status": "completed"
    },
    "tags": []
   },
   "outputs": [
    {
     "name": "stdout",
     "output_type": "stream",
     "text": [
      "(921, 100)\n",
      "(921,)\n"
     ]
    },
    {
     "data": {
      "text/plain": [
       "(None, None)"
      ]
     },
     "execution_count": 19,
     "metadata": {},
     "output_type": "execute_result"
    }
   ],
   "source": [
    "print(X_train.shape), print(y_train.shape)"
   ]
  },
  {
   "cell_type": "code",
   "execution_count": 20,
   "id": "57008a76",
   "metadata": {
    "execution": {
     "iopub.execute_input": "2023-07-07T16:58:45.349543Z",
     "iopub.status.busy": "2023-07-07T16:58:45.348928Z",
     "iopub.status.idle": "2023-07-07T16:58:45.355659Z",
     "shell.execute_reply": "2023-07-07T16:58:45.354347Z"
    },
    "papermill": {
     "duration": 0.024139,
     "end_time": "2023-07-07T16:58:45.357560",
     "exception": false,
     "start_time": "2023-07-07T16:58:45.333421",
     "status": "completed"
    },
    "tags": []
   },
   "outputs": [
    {
     "name": "stdout",
     "output_type": "stream",
     "text": [
      "(338, 100)\n",
      "(338,)\n"
     ]
    },
    {
     "data": {
      "text/plain": [
       "(None, None)"
      ]
     },
     "execution_count": 20,
     "metadata": {},
     "output_type": "execute_result"
    }
   ],
   "source": [
    "print(X_test.shape), print(y_test.shape)"
   ]
  },
  {
   "cell_type": "code",
   "execution_count": 21,
   "id": "0fd4c6b8",
   "metadata": {
    "execution": {
     "iopub.execute_input": "2023-07-07T16:58:45.386565Z",
     "iopub.status.busy": "2023-07-07T16:58:45.386039Z",
     "iopub.status.idle": "2023-07-07T16:58:45.391884Z",
     "shell.execute_reply": "2023-07-07T16:58:45.390336Z"
    },
    "papermill": {
     "duration": 0.022306,
     "end_time": "2023-07-07T16:58:45.394068",
     "exception": false,
     "start_time": "2023-07-07T16:58:45.371762",
     "status": "completed"
    },
    "tags": []
   },
   "outputs": [],
   "source": [
    "X_train =X_train.reshape(X_train.shape[0],X_train.shape[1] , 1)\n",
    "X_test = X_test.reshape(X_test.shape[0],X_test.shape[1] , 1)"
   ]
  },
  {
   "cell_type": "code",
   "execution_count": 22,
   "id": "e4f9afdd",
   "metadata": {
    "execution": {
     "iopub.execute_input": "2023-07-07T16:58:45.422824Z",
     "iopub.status.busy": "2023-07-07T16:58:45.422464Z",
     "iopub.status.idle": "2023-07-07T16:58:54.560726Z",
     "shell.execute_reply": "2023-07-07T16:58:54.559453Z"
    },
    "papermill": {
     "duration": 9.155348,
     "end_time": "2023-07-07T16:58:54.563325",
     "exception": false,
     "start_time": "2023-07-07T16:58:45.407977",
     "status": "completed"
    },
    "tags": []
   },
   "outputs": [
    {
     "name": "stderr",
     "output_type": "stream",
     "text": [
      "/opt/conda/lib/python3.10/site-packages/tensorflow_io/python/ops/__init__.py:98: UserWarning: unable to load libtensorflow_io_plugins.so: unable to open file: libtensorflow_io_plugins.so, from paths: ['/opt/conda/lib/python3.10/site-packages/tensorflow_io/python/ops/libtensorflow_io_plugins.so']\n",
      "caused by: ['/opt/conda/lib/python3.10/site-packages/tensorflow_io/python/ops/libtensorflow_io_plugins.so: undefined symbol: _ZN3tsl6StatusC1EN10tensorflow5error4CodeESt17basic_string_viewIcSt11char_traitsIcEENS_14SourceLocationE']\n",
      "  warnings.warn(f\"unable to load libtensorflow_io_plugins.so: {e}\")\n",
      "/opt/conda/lib/python3.10/site-packages/tensorflow_io/python/ops/__init__.py:104: UserWarning: file system plugins are not loaded: unable to open file: libtensorflow_io.so, from paths: ['/opt/conda/lib/python3.10/site-packages/tensorflow_io/python/ops/libtensorflow_io.so']\n",
      "caused by: ['/opt/conda/lib/python3.10/site-packages/tensorflow_io/python/ops/libtensorflow_io.so: undefined symbol: _ZTVN10tensorflow13GcsFileSystemE']\n",
      "  warnings.warn(f\"file system plugins are not loaded: {e}\")\n"
     ]
    }
   ],
   "source": [
    "from tensorflow.keras.models import Sequential\n",
    "from tensorflow.keras.layers import Dense\n",
    "from tensorflow.keras.layers import LSTM,RNN"
   ]
  },
  {
   "cell_type": "markdown",
   "id": "0b3970a5",
   "metadata": {
    "papermill": {
     "duration": 0.013447,
     "end_time": "2023-07-07T16:58:54.591044",
     "exception": false,
     "start_time": "2023-07-07T16:58:54.577597",
     "status": "completed"
    },
    "tags": []
   },
   "source": [
    "# Building Model 1"
   ]
  },
  {
   "cell_type": "code",
   "execution_count": 23,
   "id": "3bc1d621",
   "metadata": {
    "execution": {
     "iopub.execute_input": "2023-07-07T16:58:54.620266Z",
     "iopub.status.busy": "2023-07-07T16:58:54.619556Z",
     "iopub.status.idle": "2023-07-07T16:58:55.558414Z",
     "shell.execute_reply": "2023-07-07T16:58:55.557648Z"
    },
    "papermill": {
     "duration": 0.956094,
     "end_time": "2023-07-07T16:58:55.560790",
     "exception": false,
     "start_time": "2023-07-07T16:58:54.604696",
     "status": "completed"
    },
    "tags": []
   },
   "outputs": [],
   "source": [
    "model=Sequential()\n",
    "model.add(LSTM(50,return_sequences=True,input_shape=(100,1)))\n",
    "model.add(LSTM(50,return_sequences=True))\n",
    "model.add(LSTM(50))\n",
    "model.add(Dense(1))\n",
    "model.compile(loss='mean_squared_error',optimizer='adam')"
   ]
  },
  {
   "cell_type": "code",
   "execution_count": 24,
   "id": "747553b3",
   "metadata": {
    "execution": {
     "iopub.execute_input": "2023-07-07T16:58:55.589976Z",
     "iopub.status.busy": "2023-07-07T16:58:55.589416Z",
     "iopub.status.idle": "2023-07-07T16:58:55.610807Z",
     "shell.execute_reply": "2023-07-07T16:58:55.609629Z"
    },
    "papermill": {
     "duration": 0.038518,
     "end_time": "2023-07-07T16:58:55.612885",
     "exception": false,
     "start_time": "2023-07-07T16:58:55.574367",
     "status": "completed"
    },
    "tags": []
   },
   "outputs": [
    {
     "name": "stdout",
     "output_type": "stream",
     "text": [
      "Model: \"sequential\"\n",
      "_________________________________________________________________\n",
      " Layer (type)                Output Shape              Param #   \n",
      "=================================================================\n",
      " lstm (LSTM)                 (None, 100, 50)           10400     \n",
      "                                                                 \n",
      " lstm_1 (LSTM)               (None, 100, 50)           20200     \n",
      "                                                                 \n",
      " lstm_2 (LSTM)               (None, 50)                20200     \n",
      "                                                                 \n",
      " dense (Dense)               (None, 1)                 51        \n",
      "                                                                 \n",
      "=================================================================\n",
      "Total params: 50,851\n",
      "Trainable params: 50,851\n",
      "Non-trainable params: 0\n",
      "_________________________________________________________________\n"
     ]
    }
   ],
   "source": [
    "model.summary()"
   ]
  },
  {
   "cell_type": "code",
   "execution_count": 25,
   "id": "6a851f58",
   "metadata": {
    "execution": {
     "iopub.execute_input": "2023-07-07T16:58:55.643722Z",
     "iopub.status.busy": "2023-07-07T16:58:55.643363Z",
     "iopub.status.idle": "2023-07-07T17:02:36.797953Z",
     "shell.execute_reply": "2023-07-07T17:02:36.797263Z"
    },
    "papermill": {
     "duration": 221.172789,
     "end_time": "2023-07-07T17:02:36.800142",
     "exception": false,
     "start_time": "2023-07-07T16:58:55.627353",
     "status": "completed"
    },
    "tags": []
   },
   "outputs": [
    {
     "name": "stdout",
     "output_type": "stream",
     "text": [
      "Epoch 1/100\n",
      "15/15 [==============================] - 8s 236ms/step - loss: 0.0312 - val_loss: 0.0778\n",
      "Epoch 2/100\n",
      "15/15 [==============================] - 2s 141ms/step - loss: 0.0061 - val_loss: 0.0166\n",
      "Epoch 3/100\n",
      "15/15 [==============================] - 2s 144ms/step - loss: 0.0029 - val_loss: 0.0056\n",
      "Epoch 4/100\n",
      "15/15 [==============================] - 2s 144ms/step - loss: 0.0024 - val_loss: 0.0054\n",
      "Epoch 5/100\n",
      "15/15 [==============================] - 2s 143ms/step - loss: 0.0022 - val_loss: 0.0055\n",
      "Epoch 6/100\n",
      "15/15 [==============================] - 2s 139ms/step - loss: 0.0023 - val_loss: 0.0055\n",
      "Epoch 7/100\n",
      "15/15 [==============================] - 2s 142ms/step - loss: 0.0022 - val_loss: 0.0050\n",
      "Epoch 8/100\n",
      "15/15 [==============================] - 2s 142ms/step - loss: 0.0021 - val_loss: 0.0056\n",
      "Epoch 9/100\n",
      "15/15 [==============================] - 2s 142ms/step - loss: 0.0020 - val_loss: 0.0042\n",
      "Epoch 10/100\n",
      "15/15 [==============================] - 2s 144ms/step - loss: 0.0021 - val_loss: 0.0047\n",
      "Epoch 11/100\n",
      "15/15 [==============================] - 2s 137ms/step - loss: 0.0019 - val_loss: 0.0037\n",
      "Epoch 12/100\n",
      "15/15 [==============================] - 2s 137ms/step - loss: 0.0018 - val_loss: 0.0035\n",
      "Epoch 13/100\n",
      "15/15 [==============================] - 2s 144ms/step - loss: 0.0017 - val_loss: 0.0033\n",
      "Epoch 14/100\n",
      "15/15 [==============================] - 2s 143ms/step - loss: 0.0018 - val_loss: 0.0032\n",
      "Epoch 15/100\n",
      "15/15 [==============================] - 2s 150ms/step - loss: 0.0018 - val_loss: 0.0080\n",
      "Epoch 16/100\n",
      "15/15 [==============================] - 2s 142ms/step - loss: 0.0018 - val_loss: 0.0032\n",
      "Epoch 17/100\n",
      "15/15 [==============================] - 2s 149ms/step - loss: 0.0016 - val_loss: 0.0030\n",
      "Epoch 18/100\n",
      "15/15 [==============================] - 2s 147ms/step - loss: 0.0015 - val_loss: 0.0030\n",
      "Epoch 19/100\n",
      "15/15 [==============================] - 2s 147ms/step - loss: 0.0015 - val_loss: 0.0028\n",
      "Epoch 20/100\n",
      "15/15 [==============================] - 2s 148ms/step - loss: 0.0014 - val_loss: 0.0026\n",
      "Epoch 21/100\n",
      "15/15 [==============================] - 2s 140ms/step - loss: 0.0014 - val_loss: 0.0025\n",
      "Epoch 22/100\n",
      "15/15 [==============================] - 2s 142ms/step - loss: 0.0013 - val_loss: 0.0026\n",
      "Epoch 23/100\n",
      "15/15 [==============================] - 2s 138ms/step - loss: 0.0014 - val_loss: 0.0029\n",
      "Epoch 24/100\n",
      "15/15 [==============================] - 2s 140ms/step - loss: 0.0014 - val_loss: 0.0024\n",
      "Epoch 25/100\n",
      "15/15 [==============================] - 2s 141ms/step - loss: 0.0013 - val_loss: 0.0030\n",
      "Epoch 26/100\n",
      "15/15 [==============================] - 2s 141ms/step - loss: 0.0012 - val_loss: 0.0035\n",
      "Epoch 27/100\n",
      "15/15 [==============================] - 2s 142ms/step - loss: 0.0013 - val_loss: 0.0022\n",
      "Epoch 28/100\n",
      "15/15 [==============================] - 2s 159ms/step - loss: 0.0012 - val_loss: 0.0023\n",
      "Epoch 29/100\n",
      "15/15 [==============================] - 2s 153ms/step - loss: 0.0011 - val_loss: 0.0021\n",
      "Epoch 30/100\n",
      "15/15 [==============================] - 2s 147ms/step - loss: 0.0011 - val_loss: 0.0025\n",
      "Epoch 31/100\n",
      "15/15 [==============================] - 2s 146ms/step - loss: 0.0011 - val_loss: 0.0020\n",
      "Epoch 32/100\n",
      "15/15 [==============================] - 2s 150ms/step - loss: 9.8293e-04 - val_loss: 0.0022\n",
      "Epoch 33/100\n",
      "15/15 [==============================] - 2s 143ms/step - loss: 9.7559e-04 - val_loss: 0.0022\n",
      "Epoch 34/100\n",
      "15/15 [==============================] - 2s 142ms/step - loss: 9.8035e-04 - val_loss: 0.0021\n",
      "Epoch 35/100\n",
      "15/15 [==============================] - 2s 144ms/step - loss: 9.1621e-04 - val_loss: 0.0018\n",
      "Epoch 36/100\n",
      "15/15 [==============================] - 2s 145ms/step - loss: 8.8411e-04 - val_loss: 0.0018\n",
      "Epoch 37/100\n",
      "15/15 [==============================] - 2s 139ms/step - loss: 9.0689e-04 - val_loss: 0.0017\n",
      "Epoch 38/100\n",
      "15/15 [==============================] - 2s 144ms/step - loss: 8.4136e-04 - val_loss: 0.0018\n",
      "Epoch 39/100\n",
      "15/15 [==============================] - 2s 145ms/step - loss: 8.5835e-04 - val_loss: 0.0023\n",
      "Epoch 40/100\n",
      "15/15 [==============================] - 2s 148ms/step - loss: 8.4640e-04 - val_loss: 0.0015\n",
      "Epoch 41/100\n",
      "15/15 [==============================] - 2s 143ms/step - loss: 7.9359e-04 - val_loss: 0.0017\n",
      "Epoch 42/100\n",
      "15/15 [==============================] - 2s 143ms/step - loss: 7.8348e-04 - val_loss: 0.0014\n",
      "Epoch 43/100\n",
      "15/15 [==============================] - 2s 147ms/step - loss: 7.5336e-04 - val_loss: 0.0014\n",
      "Epoch 44/100\n",
      "15/15 [==============================] - 2s 143ms/step - loss: 7.4876e-04 - val_loss: 0.0019\n",
      "Epoch 45/100\n",
      "15/15 [==============================] - 2s 144ms/step - loss: 8.3800e-04 - val_loss: 0.0040\n",
      "Epoch 46/100\n",
      "15/15 [==============================] - 2s 148ms/step - loss: 8.5200e-04 - val_loss: 0.0013\n",
      "Epoch 47/100\n",
      "15/15 [==============================] - 2s 147ms/step - loss: 7.2144e-04 - val_loss: 0.0013\n",
      "Epoch 48/100\n",
      "15/15 [==============================] - 2s 149ms/step - loss: 7.0945e-04 - val_loss: 0.0012\n",
      "Epoch 49/100\n",
      "15/15 [==============================] - 2s 147ms/step - loss: 7.3390e-04 - val_loss: 0.0012\n",
      "Epoch 50/100\n",
      "15/15 [==============================] - 2s 141ms/step - loss: 7.7055e-04 - val_loss: 0.0026\n",
      "Epoch 51/100\n",
      "15/15 [==============================] - 2s 143ms/step - loss: 7.6727e-04 - val_loss: 0.0011\n",
      "Epoch 52/100\n",
      "15/15 [==============================] - 2s 147ms/step - loss: 6.9461e-04 - val_loss: 0.0011\n",
      "Epoch 53/100\n",
      "15/15 [==============================] - 2s 145ms/step - loss: 6.6908e-04 - val_loss: 0.0012\n",
      "Epoch 54/100\n",
      "15/15 [==============================] - 2s 145ms/step - loss: 6.4343e-04 - val_loss: 0.0027\n",
      "Epoch 55/100\n",
      "15/15 [==============================] - 2s 144ms/step - loss: 7.5017e-04 - val_loss: 0.0011\n",
      "Epoch 56/100\n",
      "15/15 [==============================] - 2s 152ms/step - loss: 6.5401e-04 - val_loss: 0.0012\n",
      "Epoch 57/100\n",
      "15/15 [==============================] - 2s 143ms/step - loss: 6.2921e-04 - val_loss: 0.0010\n",
      "Epoch 58/100\n",
      "15/15 [==============================] - 2s 146ms/step - loss: 6.1570e-04 - val_loss: 0.0014\n",
      "Epoch 59/100\n",
      "15/15 [==============================] - 2s 147ms/step - loss: 6.6292e-04 - val_loss: 0.0010\n",
      "Epoch 60/100\n",
      "15/15 [==============================] - 2s 144ms/step - loss: 6.3794e-04 - val_loss: 0.0011\n",
      "Epoch 61/100\n",
      "15/15 [==============================] - 2s 156ms/step - loss: 7.2219e-04 - val_loss: 0.0014\n",
      "Epoch 62/100\n",
      "15/15 [==============================] - 2s 147ms/step - loss: 5.8492e-04 - val_loss: 0.0013\n",
      "Epoch 63/100\n",
      "15/15 [==============================] - 2s 143ms/step - loss: 7.2750e-04 - val_loss: 0.0013\n",
      "Epoch 64/100\n",
      "15/15 [==============================] - 2s 145ms/step - loss: 5.9052e-04 - val_loss: 0.0014\n",
      "Epoch 65/100\n",
      "15/15 [==============================] - 2s 144ms/step - loss: 6.7513e-04 - val_loss: 0.0011\n",
      "Epoch 66/100\n",
      "15/15 [==============================] - 2s 151ms/step - loss: 5.7460e-04 - val_loss: 0.0017\n",
      "Epoch 67/100\n",
      "15/15 [==============================] - 2s 148ms/step - loss: 5.8438e-04 - val_loss: 0.0025\n",
      "Epoch 68/100\n",
      "15/15 [==============================] - 2s 144ms/step - loss: 6.3840e-04 - val_loss: 9.2863e-04\n",
      "Epoch 69/100\n",
      "15/15 [==============================] - 2s 137ms/step - loss: 5.6949e-04 - val_loss: 9.6786e-04\n",
      "Epoch 70/100\n",
      "15/15 [==============================] - 2s 152ms/step - loss: 5.7724e-04 - val_loss: 0.0012\n",
      "Epoch 71/100\n",
      "15/15 [==============================] - 2s 144ms/step - loss: 5.2968e-04 - val_loss: 8.8619e-04\n",
      "Epoch 72/100\n",
      "15/15 [==============================] - 2s 143ms/step - loss: 5.3763e-04 - val_loss: 0.0013\n",
      "Epoch 73/100\n",
      "15/15 [==============================] - 2s 143ms/step - loss: 5.1829e-04 - val_loss: 8.6806e-04\n",
      "Epoch 74/100\n",
      "15/15 [==============================] - 2s 141ms/step - loss: 5.1221e-04 - val_loss: 0.0013\n",
      "Epoch 75/100\n",
      "15/15 [==============================] - 2s 149ms/step - loss: 6.0078e-04 - val_loss: 0.0011\n",
      "Epoch 76/100\n",
      "15/15 [==============================] - 2s 143ms/step - loss: 5.3090e-04 - val_loss: 0.0011\n",
      "Epoch 77/100\n",
      "15/15 [==============================] - 2s 141ms/step - loss: 5.0974e-04 - val_loss: 0.0010\n",
      "Epoch 78/100\n",
      "15/15 [==============================] - 2s 142ms/step - loss: 5.2736e-04 - val_loss: 0.0022\n",
      "Epoch 79/100\n",
      "15/15 [==============================] - 2s 138ms/step - loss: 6.3555e-04 - val_loss: 0.0011\n",
      "Epoch 80/100\n",
      "15/15 [==============================] - 2s 141ms/step - loss: 5.4948e-04 - val_loss: 0.0010\n",
      "Epoch 81/100\n",
      "15/15 [==============================] - 2s 143ms/step - loss: 5.0563e-04 - val_loss: 0.0026\n",
      "Epoch 82/100\n",
      "15/15 [==============================] - 2s 140ms/step - loss: 5.6961e-04 - val_loss: 8.5533e-04\n",
      "Epoch 83/100\n",
      "15/15 [==============================] - 2s 143ms/step - loss: 5.3526e-04 - val_loss: 0.0010\n",
      "Epoch 84/100\n",
      "15/15 [==============================] - 2s 143ms/step - loss: 4.9882e-04 - val_loss: 8.4380e-04\n",
      "Epoch 85/100\n",
      "15/15 [==============================] - 2s 145ms/step - loss: 4.8833e-04 - val_loss: 0.0012\n",
      "Epoch 86/100\n",
      "15/15 [==============================] - 2s 141ms/step - loss: 4.9443e-04 - val_loss: 9.4806e-04\n",
      "Epoch 87/100\n",
      "15/15 [==============================] - 2s 146ms/step - loss: 4.5222e-04 - val_loss: 0.0010\n",
      "Epoch 88/100\n",
      "15/15 [==============================] - 2s 142ms/step - loss: 4.6421e-04 - val_loss: 8.7591e-04\n",
      "Epoch 89/100\n",
      "15/15 [==============================] - 2s 141ms/step - loss: 5.8788e-04 - val_loss: 9.6614e-04\n",
      "Epoch 90/100\n",
      "15/15 [==============================] - 2s 148ms/step - loss: 4.8140e-04 - val_loss: 9.5886e-04\n",
      "Epoch 91/100\n",
      "15/15 [==============================] - 2s 140ms/step - loss: 4.5596e-04 - val_loss: 9.7583e-04\n",
      "Epoch 92/100\n",
      "15/15 [==============================] - 2s 142ms/step - loss: 4.5368e-04 - val_loss: 9.3929e-04\n",
      "Epoch 93/100\n",
      "15/15 [==============================] - 2s 142ms/step - loss: 4.2563e-04 - val_loss: 8.8376e-04\n",
      "Epoch 94/100\n",
      "15/15 [==============================] - 2s 142ms/step - loss: 4.2222e-04 - val_loss: 8.4492e-04\n",
      "Epoch 95/100\n",
      "15/15 [==============================] - 2s 144ms/step - loss: 4.6593e-04 - val_loss: 9.6636e-04\n",
      "Epoch 96/100\n",
      "15/15 [==============================] - 2s 143ms/step - loss: 4.4785e-04 - val_loss: 0.0010\n",
      "Epoch 97/100\n",
      "15/15 [==============================] - 2s 141ms/step - loss: 4.3085e-04 - val_loss: 7.9464e-04\n",
      "Epoch 98/100\n",
      "15/15 [==============================] - 2s 143ms/step - loss: 4.7432e-04 - val_loss: 0.0018\n",
      "Epoch 99/100\n",
      "15/15 [==============================] - 2s 139ms/step - loss: 5.3480e-04 - val_loss: 7.6162e-04\n",
      "Epoch 100/100\n",
      "15/15 [==============================] - 2s 141ms/step - loss: 4.1229e-04 - val_loss: 8.3539e-04\n"
     ]
    },
    {
     "data": {
      "text/plain": [
       "<keras.callbacks.History at 0x7c6a081e5f60>"
      ]
     },
     "execution_count": 25,
     "metadata": {},
     "output_type": "execute_result"
    }
   ],
   "source": [
    "model.fit(X_train,y_train,validation_data=(X_test,y_test),epochs=100,batch_size=64,verbose=1)"
   ]
  },
  {
   "cell_type": "code",
   "execution_count": 26,
   "id": "cf7f9e15",
   "metadata": {
    "execution": {
     "iopub.execute_input": "2023-07-07T17:02:37.023572Z",
     "iopub.status.busy": "2023-07-07T17:02:37.022665Z",
     "iopub.status.idle": "2023-07-07T17:02:39.320660Z",
     "shell.execute_reply": "2023-07-07T17:02:39.319963Z"
    },
    "papermill": {
     "duration": 2.410677,
     "end_time": "2023-07-07T17:02:39.322740",
     "exception": false,
     "start_time": "2023-07-07T17:02:36.912063",
     "status": "completed"
    },
    "tags": []
   },
   "outputs": [
    {
     "name": "stdout",
     "output_type": "stream",
     "text": [
      "29/29 [==============================] - 2s 31ms/step\n",
      "11/11 [==============================] - 0s 30ms/step\n"
     ]
    }
   ],
   "source": [
    "train_predict=model.predict(X_train)\n",
    "test_predict=model.predict(X_test)"
   ]
  },
  {
   "cell_type": "code",
   "execution_count": 27,
   "id": "1e821518",
   "metadata": {
    "execution": {
     "iopub.execute_input": "2023-07-07T17:02:39.550670Z",
     "iopub.status.busy": "2023-07-07T17:02:39.549718Z",
     "iopub.status.idle": "2023-07-07T17:02:39.555788Z",
     "shell.execute_reply": "2023-07-07T17:02:39.554196Z"
    },
    "papermill": {
     "duration": 0.122273,
     "end_time": "2023-07-07T17:02:39.558435",
     "exception": false,
     "start_time": "2023-07-07T17:02:39.436162",
     "status": "completed"
    },
    "tags": []
   },
   "outputs": [],
   "source": [
    "train_predict=scaler.inverse_transform(train_predict)\n",
    "test_predict=scaler.inverse_transform(test_predict)"
   ]
  },
  {
   "cell_type": "markdown",
   "id": "cbd8a7b8",
   "metadata": {
    "papermill": {
     "duration": 0.110883,
     "end_time": "2023-07-07T17:02:39.781274",
     "exception": false,
     "start_time": "2023-07-07T17:02:39.670391",
     "status": "completed"
    },
    "tags": []
   },
   "source": [
    "# Evaluating Model"
   ]
  },
  {
   "cell_type": "code",
   "execution_count": 28,
   "id": "b0cd0c02",
   "metadata": {
    "execution": {
     "iopub.execute_input": "2023-07-07T17:02:40.005307Z",
     "iopub.status.busy": "2023-07-07T17:02:40.004931Z",
     "iopub.status.idle": "2023-07-07T17:02:40.115337Z",
     "shell.execute_reply": "2023-07-07T17:02:40.114194Z"
    },
    "papermill": {
     "duration": 0.22422,
     "end_time": "2023-07-07T17:02:40.117343",
     "exception": false,
     "start_time": "2023-07-07T17:02:39.893123",
     "status": "completed"
    },
    "tags": []
   },
   "outputs": [
    {
     "data": {
      "text/plain": [
       "376.51329784166353"
      ]
     },
     "execution_count": 28,
     "metadata": {},
     "output_type": "execute_result"
    }
   ],
   "source": [
    "import math\n",
    "from sklearn.metrics import mean_squared_error\n",
    "math.sqrt(mean_squared_error(y_train,train_predict))"
   ]
  },
  {
   "cell_type": "code",
   "execution_count": 29,
   "id": "b0807918",
   "metadata": {
    "execution": {
     "iopub.execute_input": "2023-07-07T17:02:40.392319Z",
     "iopub.status.busy": "2023-07-07T17:02:40.391919Z",
     "iopub.status.idle": "2023-07-07T17:02:40.399118Z",
     "shell.execute_reply": "2023-07-07T17:02:40.398100Z"
    },
    "papermill": {
     "duration": 0.173948,
     "end_time": "2023-07-07T17:02:40.400864",
     "exception": false,
     "start_time": "2023-07-07T17:02:40.226916",
     "status": "completed"
    },
    "tags": []
   },
   "outputs": [
    {
     "data": {
      "text/plain": [
       "554.2139194226297"
      ]
     },
     "execution_count": 29,
     "metadata": {},
     "output_type": "execute_result"
    }
   ],
   "source": [
    "math.sqrt(mean_squared_error(y_test,test_predict))"
   ]
  },
  {
   "cell_type": "code",
   "execution_count": 30,
   "id": "7789d5b9",
   "metadata": {
    "execution": {
     "iopub.execute_input": "2023-07-07T17:02:40.623059Z",
     "iopub.status.busy": "2023-07-07T17:02:40.621759Z",
     "iopub.status.idle": "2023-07-07T17:02:40.795678Z",
     "shell.execute_reply": "2023-07-07T17:02:40.794715Z"
    },
    "papermill": {
     "duration": 0.286841,
     "end_time": "2023-07-07T17:02:40.797511",
     "exception": false,
     "start_time": "2023-07-07T17:02:40.510670",
     "status": "completed"
    },
    "tags": []
   },
   "outputs": [
    {
     "data": {
      "image/png": "[encoded data removed]",
      "text/plain": [
       "<Figure size 640x480 with 1 Axes>"
      ]
     },
     "metadata": {},
     "output_type": "display_data"
    }
   ],
   "source": [
    "look_back=100\n",
    "trainPredictPlot = np.empty_like(df1)\n",
    "trainPredictPlot[:, :] = np.nan\n",
    "trainPredictPlot[look_back:len(train_predict)+look_back, :] = train_predict\n",
    "# shift test predictions for plotting\n",
    "testPredictPlot = np.empty_like(df1)\n",
    "testPredictPlot[:, :] = np.nan\n",
    "testPredictPlot[len(train_predict)+(look_back*2)+1:len(df1)-1, :] = test_predict\n",
    "# plot baseline and predictions\n",
    "plt.plot(scaler.inverse_transform(df1))\n",
    "plt.plot(trainPredictPlot)\n",
    "plt.plot(testPredictPlot)\n",
    "plt.show()"
   ]
  },
  {
   "cell_type": "markdown",
   "id": "b9206366",
   "metadata": {
    "papermill": {
     "duration": 0.110497,
     "end_time": "2023-07-07T17:02:41.020370",
     "exception": false,
     "start_time": "2023-07-07T17:02:40.909873",
     "status": "completed"
    },
    "tags": []
   },
   "source": [
    "# Building Model 2"
   ]
  },
  {
   "cell_type": "code",
   "execution_count": 31,
   "id": "15dd14b4",
   "metadata": {
    "execution": {
     "iopub.execute_input": "2023-07-07T17:02:41.240303Z",
     "iopub.status.busy": "2023-07-07T17:02:41.239885Z",
     "iopub.status.idle": "2023-07-07T17:02:41.372455Z",
     "shell.execute_reply": "2023-07-07T17:02:41.371654Z"
    },
    "papermill": {
     "duration": 0.244975,
     "end_time": "2023-07-07T17:02:41.374837",
     "exception": false,
     "start_time": "2023-07-07T17:02:41.129862",
     "status": "completed"
    },
    "tags": []
   },
   "outputs": [],
   "source": [
    "from tensorflow.keras.layers import LSTM,SimpleRNN\n",
    "model=Sequential()\n",
    "model.add(SimpleRNN(50,return_sequences=True,input_shape=(100,1)))\n",
    "model.add(SimpleRNN(50))\n",
    "model.add(Dense(1))\n",
    "model.compile(loss='mean_squared_error',optimizer='adam')"
   ]
  },
  {
   "cell_type": "code",
   "execution_count": 32,
   "id": "2403bd3a",
   "metadata": {
    "execution": {
     "iopub.execute_input": "2023-07-07T17:02:41.600058Z",
     "iopub.status.busy": "2023-07-07T17:02:41.599682Z",
     "iopub.status.idle": "2023-07-07T17:02:41.619454Z",
     "shell.execute_reply": "2023-07-07T17:02:41.618208Z"
    },
    "papermill": {
     "duration": 0.134469,
     "end_time": "2023-07-07T17:02:41.621442",
     "exception": false,
     "start_time": "2023-07-07T17:02:41.486973",
     "status": "completed"
    },
    "tags": []
   },
   "outputs": [
    {
     "name": "stdout",
     "output_type": "stream",
     "text": [
      "Model: \"sequential_1\"\n",
      "_________________________________________________________________\n",
      " Layer (type)                Output Shape              Param #   \n",
      "=================================================================\n",
      " simple_rnn (SimpleRNN)      (None, 100, 50)           2600      \n",
      "                                                                 \n",
      " simple_rnn_1 (SimpleRNN)    (None, 50)                5050      \n",
      "                                                                 \n",
      " dense_1 (Dense)             (None, 1)                 51        \n",
      "                                                                 \n",
      "=================================================================\n",
      "Total params: 7,701\n",
      "Trainable params: 7,701\n",
      "Non-trainable params: 0\n",
      "_________________________________________________________________\n"
     ]
    }
   ],
   "source": [
    "model.summary()"
   ]
  },
  {
   "cell_type": "code",
   "execution_count": 33,
   "id": "8559634a",
   "metadata": {
    "execution": {
     "iopub.execute_input": "2023-07-07T17:02:41.848207Z",
     "iopub.status.busy": "2023-07-07T17:02:41.847850Z",
     "iopub.status.idle": "2023-07-07T17:04:05.314272Z",
     "shell.execute_reply": "2023-07-07T17:04:05.313189Z"
    },
    "papermill": {
     "duration": 83.582202,
     "end_time": "2023-07-07T17:04:05.316408",
     "exception": false,
     "start_time": "2023-07-07T17:02:41.734206",
     "status": "completed"
    },
    "tags": []
   },
   "outputs": [
    {
     "name": "stdout",
     "output_type": "stream",
     "text": [
      "Epoch 1/100\n",
      "15/15 [==============================] - 2s 57ms/step - loss: 0.0277 - val_loss: 0.0105\n",
      "Epoch 2/100\n",
      "15/15 [==============================] - 1s 39ms/step - loss: 0.0026 - val_loss: 0.0048\n",
      "Epoch 3/100\n",
      "15/15 [==============================] - 1s 50ms/step - loss: 0.0017 - val_loss: 0.0065\n",
      "Epoch 4/100\n",
      "15/15 [==============================] - 1s 40ms/step - loss: 0.0011 - val_loss: 0.0049\n",
      "Epoch 5/100\n",
      "15/15 [==============================] - 1s 41ms/step - loss: 9.7249e-04 - val_loss: 0.0030\n",
      "Epoch 6/100\n",
      "15/15 [==============================] - 1s 38ms/step - loss: 8.6866e-04 - val_loss: 0.0021\n",
      "Epoch 7/100\n",
      "15/15 [==============================] - 1s 37ms/step - loss: 0.0011 - val_loss: 0.0021\n",
      "Epoch 8/100\n",
      "15/15 [==============================] - 1s 37ms/step - loss: 9.0039e-04 - val_loss: 0.0020\n",
      "Epoch 9/100\n",
      "15/15 [==============================] - 1s 39ms/step - loss: 6.4968e-04 - val_loss: 0.0018\n",
      "Epoch 10/100\n",
      "15/15 [==============================] - 1s 38ms/step - loss: 7.3908e-04 - val_loss: 0.0022\n",
      "Epoch 11/100\n",
      "15/15 [==============================] - 1s 39ms/step - loss: 7.2470e-04 - val_loss: 0.0018\n",
      "Epoch 12/100\n",
      "15/15 [==============================] - 1s 39ms/step - loss: 6.2173e-04 - val_loss: 0.0021\n",
      "Epoch 13/100\n",
      "15/15 [==============================] - 1s 39ms/step - loss: 7.9798e-04 - val_loss: 0.0022\n",
      "Epoch 14/100\n",
      "15/15 [==============================] - 1s 39ms/step - loss: 6.6879e-04 - val_loss: 0.0020\n",
      "Epoch 15/100\n",
      "15/15 [==============================] - 1s 39ms/step - loss: 6.2064e-04 - val_loss: 0.0014\n",
      "Epoch 16/100\n",
      "15/15 [==============================] - 1s 39ms/step - loss: 6.0285e-04 - val_loss: 0.0015\n",
      "Epoch 17/100\n",
      "15/15 [==============================] - 1s 39ms/step - loss: 7.5911e-04 - val_loss: 0.0023\n",
      "Epoch 18/100\n",
      "15/15 [==============================] - 1s 38ms/step - loss: 5.5110e-04 - val_loss: 0.0014\n",
      "Epoch 19/100\n",
      "15/15 [==============================] - 1s 38ms/step - loss: 6.1988e-04 - val_loss: 0.0022\n",
      "Epoch 20/100\n",
      "15/15 [==============================] - 1s 39ms/step - loss: 9.0181e-04 - val_loss: 0.0025\n",
      "Epoch 21/100\n",
      "15/15 [==============================] - 1s 39ms/step - loss: 6.5255e-04 - val_loss: 0.0033\n",
      "Epoch 22/100\n",
      "15/15 [==============================] - 1s 38ms/step - loss: 5.9685e-04 - val_loss: 0.0013\n",
      "Epoch 23/100\n",
      "15/15 [==============================] - 1s 39ms/step - loss: 5.7306e-04 - val_loss: 0.0013\n",
      "Epoch 24/100\n",
      "15/15 [==============================] - 1s 38ms/step - loss: 5.3190e-04 - val_loss: 0.0012\n",
      "Epoch 25/100\n",
      "15/15 [==============================] - 1s 37ms/step - loss: 5.1409e-04 - val_loss: 0.0014\n",
      "Epoch 26/100\n",
      "15/15 [==============================] - 1s 40ms/step - loss: 4.6176e-04 - val_loss: 0.0015\n",
      "Epoch 27/100\n",
      "15/15 [==============================] - 1s 38ms/step - loss: 4.4486e-04 - val_loss: 0.0012\n",
      "Epoch 28/100\n",
      "15/15 [==============================] - 1s 38ms/step - loss: 4.1432e-04 - val_loss: 0.0011\n",
      "Epoch 29/100\n",
      "15/15 [==============================] - 1s 39ms/step - loss: 4.1036e-04 - val_loss: 0.0011\n",
      "Epoch 30/100\n",
      "15/15 [==============================] - 1s 39ms/step - loss: 4.2012e-04 - val_loss: 0.0012\n",
      "Epoch 31/100\n",
      "15/15 [==============================] - 1s 40ms/step - loss: 4.5185e-04 - val_loss: 0.0011\n",
      "Epoch 32/100\n",
      "15/15 [==============================] - 1s 40ms/step - loss: 4.1175e-04 - val_loss: 0.0011\n",
      "Epoch 33/100\n",
      "15/15 [==============================] - 1s 40ms/step - loss: 4.6527e-04 - val_loss: 0.0013\n",
      "Epoch 34/100\n",
      "15/15 [==============================] - 1s 44ms/step - loss: 4.5711e-04 - val_loss: 0.0012\n",
      "Epoch 35/100\n",
      "15/15 [==============================] - 1s 39ms/step - loss: 4.3944e-04 - val_loss: 0.0014\n",
      "Epoch 36/100\n",
      "15/15 [==============================] - 1s 40ms/step - loss: 4.2538e-04 - val_loss: 0.0013\n",
      "Epoch 37/100\n",
      "15/15 [==============================] - 1s 38ms/step - loss: 4.1246e-04 - val_loss: 0.0010\n",
      "Epoch 38/100\n",
      "15/15 [==============================] - 1s 38ms/step - loss: 5.5177e-04 - val_loss: 0.0017\n",
      "Epoch 39/100\n",
      "15/15 [==============================] - 1s 39ms/step - loss: 4.2345e-04 - val_loss: 0.0017\n",
      "Epoch 40/100\n",
      "15/15 [==============================] - 1s 38ms/step - loss: 3.9715e-04 - val_loss: 9.8120e-04\n",
      "Epoch 41/100\n",
      "15/15 [==============================] - 1s 39ms/step - loss: 4.5826e-04 - val_loss: 0.0014\n",
      "Epoch 42/100\n",
      "15/15 [==============================] - 1s 40ms/step - loss: 7.3357e-04 - val_loss: 9.7701e-04\n",
      "Epoch 43/100\n",
      "15/15 [==============================] - 1s 39ms/step - loss: 4.3265e-04 - val_loss: 0.0014\n",
      "Epoch 44/100\n",
      "15/15 [==============================] - 1s 41ms/step - loss: 4.0164e-04 - val_loss: 9.1938e-04\n",
      "Epoch 45/100\n",
      "15/15 [==============================] - 1s 39ms/step - loss: 4.0063e-04 - val_loss: 9.9234e-04\n",
      "Epoch 46/100\n",
      "15/15 [==============================] - 1s 39ms/step - loss: 3.9076e-04 - val_loss: 9.0799e-04\n",
      "Epoch 47/100\n",
      "15/15 [==============================] - 1s 39ms/step - loss: 3.5675e-04 - val_loss: 8.4800e-04\n",
      "Epoch 48/100\n",
      "15/15 [==============================] - 1s 44ms/step - loss: 4.2638e-04 - val_loss: 8.9194e-04\n",
      "Epoch 49/100\n",
      "15/15 [==============================] - 1s 45ms/step - loss: 4.5276e-04 - val_loss: 0.0018\n",
      "Epoch 50/100\n",
      "15/15 [==============================] - 1s 38ms/step - loss: 3.9045e-04 - val_loss: 8.9306e-04\n",
      "Epoch 51/100\n",
      "15/15 [==============================] - 1s 40ms/step - loss: 3.7779e-04 - val_loss: 8.7221e-04\n",
      "Epoch 52/100\n",
      "15/15 [==============================] - 1s 39ms/step - loss: 4.1318e-04 - val_loss: 8.6387e-04\n",
      "Epoch 53/100\n",
      "15/15 [==============================] - 1s 39ms/step - loss: 4.3635e-04 - val_loss: 8.7088e-04\n",
      "Epoch 54/100\n",
      "15/15 [==============================] - 1s 39ms/step - loss: 4.1537e-04 - val_loss: 0.0013\n",
      "Epoch 55/100\n",
      "15/15 [==============================] - 1s 38ms/step - loss: 3.6623e-04 - val_loss: 0.0014\n",
      "Epoch 56/100\n",
      "15/15 [==============================] - 1s 45ms/step - loss: 5.1363e-04 - val_loss: 0.0026\n",
      "Epoch 57/100\n",
      "15/15 [==============================] - 1s 40ms/step - loss: 5.1629e-04 - val_loss: 0.0010\n",
      "Epoch 58/100\n",
      "15/15 [==============================] - 1s 38ms/step - loss: 3.5409e-04 - val_loss: 7.9826e-04\n",
      "Epoch 59/100\n",
      "15/15 [==============================] - 1s 37ms/step - loss: 3.3496e-04 - val_loss: 9.4246e-04\n",
      "Epoch 60/100\n",
      "15/15 [==============================] - 1s 39ms/step - loss: 3.5056e-04 - val_loss: 7.5286e-04\n",
      "Epoch 61/100\n",
      "15/15 [==============================] - 1s 37ms/step - loss: 3.6817e-04 - val_loss: 7.5423e-04\n",
      "Epoch 62/100\n",
      "15/15 [==============================] - 1s 39ms/step - loss: 3.8343e-04 - val_loss: 7.9383e-04\n",
      "Epoch 63/100\n",
      "15/15 [==============================] - 1s 39ms/step - loss: 3.8385e-04 - val_loss: 7.6670e-04\n",
      "Epoch 64/100\n",
      "15/15 [==============================] - 1s 39ms/step - loss: 3.4391e-04 - val_loss: 9.5185e-04\n",
      "Epoch 65/100\n",
      "15/15 [==============================] - 1s 38ms/step - loss: 3.4177e-04 - val_loss: 7.1181e-04\n",
      "Epoch 66/100\n",
      "15/15 [==============================] - 1s 41ms/step - loss: 3.2538e-04 - val_loss: 7.7045e-04\n",
      "Epoch 67/100\n",
      "15/15 [==============================] - 1s 40ms/step - loss: 3.3036e-04 - val_loss: 7.5210e-04\n",
      "Epoch 68/100\n",
      "15/15 [==============================] - 1s 39ms/step - loss: 3.3566e-04 - val_loss: 8.8752e-04\n",
      "Epoch 69/100\n",
      "15/15 [==============================] - 1s 39ms/step - loss: 3.6708e-04 - val_loss: 7.3343e-04\n",
      "Epoch 70/100\n",
      "15/15 [==============================] - 1s 40ms/step - loss: 3.3738e-04 - val_loss: 8.1052e-04\n",
      "Epoch 71/100\n",
      "15/15 [==============================] - 1s 40ms/step - loss: 3.5148e-04 - val_loss: 7.8561e-04\n",
      "Epoch 72/100\n",
      "15/15 [==============================] - 1s 39ms/step - loss: 4.6382e-04 - val_loss: 7.6438e-04\n",
      "Epoch 73/100\n",
      "15/15 [==============================] - 1s 39ms/step - loss: 4.8753e-04 - val_loss: 7.7907e-04\n",
      "Epoch 74/100\n",
      "15/15 [==============================] - 1s 39ms/step - loss: 4.7487e-04 - val_loss: 9.7369e-04\n",
      "Epoch 75/100\n",
      "15/15 [==============================] - 1s 39ms/step - loss: 3.6749e-04 - val_loss: 8.4876e-04\n",
      "Epoch 76/100\n",
      "15/15 [==============================] - 1s 38ms/step - loss: 3.3965e-04 - val_loss: 7.2996e-04\n",
      "Epoch 77/100\n",
      "15/15 [==============================] - 1s 38ms/step - loss: 4.1102e-04 - val_loss: 6.8644e-04\n",
      "Epoch 78/100\n",
      "15/15 [==============================] - 1s 38ms/step - loss: 3.2531e-04 - val_loss: 0.0012\n",
      "Epoch 79/100\n",
      "15/15 [==============================] - 1s 39ms/step - loss: 3.3439e-04 - val_loss: 7.6641e-04\n",
      "Epoch 80/100\n",
      "15/15 [==============================] - 1s 38ms/step - loss: 3.9469e-04 - val_loss: 6.7837e-04\n",
      "Epoch 81/100\n",
      "15/15 [==============================] - 1s 38ms/step - loss: 3.6374e-04 - val_loss: 8.2113e-04\n",
      "Epoch 82/100\n",
      "15/15 [==============================] - 1s 39ms/step - loss: 3.3828e-04 - val_loss: 7.4502e-04\n",
      "Epoch 83/100\n",
      "15/15 [==============================] - 1s 38ms/step - loss: 3.1863e-04 - val_loss: 7.3789e-04\n",
      "Epoch 84/100\n",
      "15/15 [==============================] - 1s 46ms/step - loss: 3.6119e-04 - val_loss: 7.3616e-04\n",
      "Epoch 85/100\n",
      "15/15 [==============================] - 1s 39ms/step - loss: 3.9289e-04 - val_loss: 7.3089e-04\n",
      "Epoch 86/100\n",
      "15/15 [==============================] - 1s 39ms/step - loss: 3.5354e-04 - val_loss: 6.8244e-04\n",
      "Epoch 87/100\n",
      "15/15 [==============================] - 1s 40ms/step - loss: 3.2249e-04 - val_loss: 8.6175e-04\n",
      "Epoch 88/100\n",
      "15/15 [==============================] - 1s 39ms/step - loss: 3.3177e-04 - val_loss: 0.0012\n",
      "Epoch 89/100\n",
      "15/15 [==============================] - 1s 40ms/step - loss: 3.5294e-04 - val_loss: 8.0609e-04\n",
      "Epoch 90/100\n",
      "15/15 [==============================] - 1s 44ms/step - loss: 3.3952e-04 - val_loss: 6.8718e-04\n",
      "Epoch 91/100\n",
      "15/15 [==============================] - 1s 39ms/step - loss: 3.1274e-04 - val_loss: 7.1647e-04\n",
      "Epoch 92/100\n",
      "15/15 [==============================] - 1s 39ms/step - loss: 3.6324e-04 - val_loss: 8.2240e-04\n",
      "Epoch 93/100\n",
      "15/15 [==============================] - 1s 38ms/step - loss: 3.5976e-04 - val_loss: 6.9505e-04\n",
      "Epoch 94/100\n",
      "15/15 [==============================] - 1s 40ms/step - loss: 3.1896e-04 - val_loss: 7.2864e-04\n",
      "Epoch 95/100\n",
      "15/15 [==============================] - 1s 40ms/step - loss: 3.6207e-04 - val_loss: 7.0619e-04\n",
      "Epoch 96/100\n",
      "15/15 [==============================] - 1s 39ms/step - loss: 3.2376e-04 - val_loss: 7.1393e-04\n",
      "Epoch 97/100\n",
      "15/15 [==============================] - 1s 39ms/step - loss: 3.7373e-04 - val_loss: 9.0834e-04\n",
      "Epoch 98/100\n",
      "15/15 [==============================] - 1s 39ms/step - loss: 3.2026e-04 - val_loss: 7.1802e-04\n",
      "Epoch 99/100\n",
      "15/15 [==============================] - 1s 39ms/step - loss: 3.3604e-04 - val_loss: 7.2773e-04\n",
      "Epoch 100/100\n",
      "15/15 [==============================] - 1s 42ms/step - loss: 3.5399e-04 - val_loss: 7.7264e-04\n"
     ]
    },
    {
     "data": {
      "text/plain": [
       "<keras.callbacks.History at 0x7c69f96bb280>"
      ]
     },
     "execution_count": 33,
     "metadata": {},
     "output_type": "execute_result"
    }
   ],
   "source": [
    "model.fit(X_train,y_train,validation_data=(X_test,y_test),epochs=100,batch_size=64,verbose=1)"
   ]
  },
  {
   "cell_type": "code",
   "execution_count": 34,
   "id": "39de42b4",
   "metadata": {
    "execution": {
     "iopub.execute_input": "2023-07-07T17:04:05.654395Z",
     "iopub.status.busy": "2023-07-07T17:04:05.654087Z",
     "iopub.status.idle": "2023-07-07T17:04:06.373865Z",
     "shell.execute_reply": "2023-07-07T17:04:06.373081Z"
    },
    "papermill": {
     "duration": 0.892457,
     "end_time": "2023-07-07T17:04:06.376050",
     "exception": false,
     "start_time": "2023-07-07T17:04:05.483593",
     "status": "completed"
    },
    "tags": []
   },
   "outputs": [
    {
     "name": "stdout",
     "output_type": "stream",
     "text": [
      "29/29 [==============================] - 1s 11ms/step\n",
      "11/11 [==============================] - 0s 10ms/step\n"
     ]
    }
   ],
   "source": [
    "train_predict=model.predict(X_train)\n",
    "test_predict=model.predict(X_test)"
   ]
  },
  {
   "cell_type": "code",
   "execution_count": 35,
   "id": "b4c6d766",
   "metadata": {
    "execution": {
     "iopub.execute_input": "2023-07-07T17:04:06.722121Z",
     "iopub.status.busy": "2023-07-07T17:04:06.720459Z",
     "iopub.status.idle": "2023-07-07T17:04:06.727490Z",
     "shell.execute_reply": "2023-07-07T17:04:06.726466Z"
    },
    "papermill": {
     "duration": 0.18362,
     "end_time": "2023-07-07T17:04:06.729724",
     "exception": false,
     "start_time": "2023-07-07T17:04:06.546104",
     "status": "completed"
    },
    "tags": []
   },
   "outputs": [],
   "source": [
    "train_predict=scaler.inverse_transform(train_predict)\n",
    "test_predict=scaler.inverse_transform(test_predict)"
   ]
  },
  {
   "cell_type": "markdown",
   "id": "093e334c",
   "metadata": {
    "papermill": {
     "duration": 0.231475,
     "end_time": "2023-07-07T17:04:07.129871",
     "exception": false,
     "start_time": "2023-07-07T17:04:06.898396",
     "status": "completed"
    },
    "tags": []
   },
   "source": [
    "# Evaluating Model"
   ]
  },
  {
   "cell_type": "code",
   "execution_count": 36,
   "id": "547f5b90",
   "metadata": {
    "execution": {
     "iopub.execute_input": "2023-07-07T17:04:07.473052Z",
     "iopub.status.busy": "2023-07-07T17:04:07.472621Z",
     "iopub.status.idle": "2023-07-07T17:04:07.480785Z",
     "shell.execute_reply": "2023-07-07T17:04:07.480075Z"
    },
    "papermill": {
     "duration": 0.183188,
     "end_time": "2023-07-07T17:04:07.482639",
     "exception": false,
     "start_time": "2023-07-07T17:04:07.299451",
     "status": "completed"
    },
    "tags": []
   },
   "outputs": [
    {
     "data": {
      "text/plain": [
       "378.9363364514386"
      ]
     },
     "execution_count": 36,
     "metadata": {},
     "output_type": "execute_result"
    }
   ],
   "source": [
    "import math\n",
    "from sklearn.metrics import mean_squared_error\n",
    "math.sqrt(mean_squared_error(y_train,train_predict))"
   ]
  },
  {
   "cell_type": "code",
   "execution_count": 37,
   "id": "bd408059",
   "metadata": {
    "execution": {
     "iopub.execute_input": "2023-07-07T17:04:07.828571Z",
     "iopub.status.busy": "2023-07-07T17:04:07.827698Z",
     "iopub.status.idle": "2023-07-07T17:04:07.835332Z",
     "shell.execute_reply": "2023-07-07T17:04:07.833964Z"
    },
    "papermill": {
     "duration": 0.182944,
     "end_time": "2023-07-07T17:04:07.837103",
     "exception": false,
     "start_time": "2023-07-07T17:04:07.654159",
     "status": "completed"
    },
    "tags": []
   },
   "outputs": [
    {
     "data": {
      "text/plain": [
       "562.0473024582803"
      ]
     },
     "execution_count": 37,
     "metadata": {},
     "output_type": "execute_result"
    }
   ],
   "source": [
    "math.sqrt(mean_squared_error(y_test,test_predict))"
   ]
  },
  {
   "cell_type": "code",
   "execution_count": 38,
   "id": "91f07f2a",
   "metadata": {
    "execution": {
     "iopub.execute_input": "2023-07-07T17:04:08.181065Z",
     "iopub.status.busy": "2023-07-07T17:04:08.180422Z",
     "iopub.status.idle": "2023-07-07T17:04:08.354863Z",
     "shell.execute_reply": "2023-07-07T17:04:08.353127Z"
    },
    "papermill": {
     "duration": 0.348199,
     "end_time": "2023-07-07T17:04:08.356877",
     "exception": false,
     "start_time": "2023-07-07T17:04:08.008678",
     "status": "completed"
    },
    "tags": []
   },
   "outputs": [
    {
     "data": {
      "image/png": "[encoded data removed]",
      "text/plain": [
       "<Figure size 640x480 with 1 Axes>"
      ]
     },
     "metadata": {},
     "output_type": "display_data"
    }
   ],
   "source": [
    "look_back=100\n",
    "trainPredictPlot = np.empty_like(df1)\n",
    "trainPredictPlot[:, :] = np.nan\n",
    "trainPredictPlot[look_back:len(train_predict)+look_back, :] = train_predict\n",
    "# shift test predictions for plotting\n",
    "testPredictPlot = np.empty_like(df1)\n",
    "testPredictPlot[:, :] = np.nan\n",
    "testPredictPlot[len(train_predict)+(look_back*2)+1:len(df1)-1, :] = test_predict\n",
    "# plot baseline and predictions\n",
    "plt.plot(scaler.inverse_transform(df1))\n",
    "plt.plot(trainPredictPlot)\n",
    "plt.plot(testPredictPlot)\n",
    "plt.show()"
   ]
  }
 ],
 "metadata": {
  "kernelspec": {
   "display_name": "Python 3 (ipykernel)",
   "language": "python",
   "name": "python3"
  },
  "language_info": {
   "codemirror_mode": {
    "name": "ipython",
    "version": 3
   },
   "file_extension": ".py",
   "mimetype": "text/x-python",
   "name": "python",
   "nbconvert_exporter": "python",
   "pygments_lexer": "ipython3",
   "version": "3.10.2"
  },
  "papermill": {
   "default_parameters": {},
   "duration": 340.640113,
   "end_time": "2023-07-07T17:04:12.986299",
   "environment_variables": {},
   "exception": null,
   "input_path": "__notebook__.ipynb",
   "output_path": "__notebook__.ipynb",
   "parameters": {},
   "start_time": "2023-07-07T16:58:32.346186",
   "version": "2.4.0"
  }
 },
 "nbformat": 4,
 "nbformat_minor": 5
}
